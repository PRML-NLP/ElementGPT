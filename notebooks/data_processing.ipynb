{
 "cells": [
  {
   "cell_type": "code",
   "execution_count": 12,
   "metadata": {},
   "outputs": [],
   "source": [
    "import os, json\n",
    "import jsonlines\n",
    "\n",
    "DATA_DIR = \"../data\"\n",
    "data_list = [\n",
    "    \"KoAlpaca/KoAlpaca_v1.1.jsonl\",\n",
    "    \"KoChatGPT/kochatgpt_1_SFT.jsonl\",\n",
    "    \"korquad-chat-v1/korquad-chat.json\",\n",
    "    \"OIG-small-chip2-ko/oig-smallchip2-dedu.jsonl\",\n",
    "    \"ShareGPT_DeepL/ko_alpaca_style_dataset.json\",\n",
    "    \"kullm_v2/kullm-v2.jsonl\",\n",
    "    \"KoAlpaca/ko_alpaca_data.json\"]"
   ]
  },
  {
   "attachments": {},
   "cell_type": "markdown",
   "metadata": {},
   "source": [
    "### KoAlpaca v1.0 dataset"
   ]
  },
  {
   "cell_type": "code",
   "execution_count": 44,
   "metadata": {},
   "outputs": [
    {
     "data": {
      "text/plain": [
       "49620"
      ]
     },
     "execution_count": 44,
     "metadata": {},
     "output_type": "execute_result"
    }
   ],
   "source": [
    "data_path = data_list[-1]\n",
    "\n",
    "with open(os.path.join(DATA_DIR, data_path), \"r\") as f:\n",
    "    koalpaca_v1_0 = json.load(f)\n",
    "\n",
    "len(koalpaca_v1_0)"
   ]
  },
  {
   "attachments": {},
   "cell_type": "markdown",
   "metadata": {},
   "source": [
    "### KoAlpaca v1.1 dataset"
   ]
  },
  {
   "cell_type": "code",
   "execution_count": 13,
   "metadata": {},
   "outputs": [
    {
     "data": {
      "text/plain": [
       "21155"
      ]
     },
     "execution_count": 13,
     "metadata": {},
     "output_type": "execute_result"
    }
   ],
   "source": [
    "data_path = data_list[0]\n",
    "\n",
    "koalpaca_v1_1 = []\n",
    "with jsonlines.open(os.path.join(DATA_DIR, data_path), \"r\") as f:\n",
    "    for line in f.iter():\n",
    "        koalpaca_v1_1.append(line)\n",
    "\n",
    "len(koalpaca_v1_1)"
   ]
  },
  {
   "attachments": {},
   "cell_type": "markdown",
   "metadata": {},
   "source": [
    "### KochatGPT SFT dataset"
   ]
  },
  {
   "cell_type": "code",
   "execution_count": 14,
   "metadata": {},
   "outputs": [
    {
     "data": {
      "text/plain": [
       "12000"
      ]
     },
     "execution_count": 14,
     "metadata": {},
     "output_type": "execute_result"
    }
   ],
   "source": [
    "data_path = data_list[1]\n",
    "with open(os.path.join(DATA_DIR, data_path), \"r\") as f:\n",
    "    kochatgpt = json.load(f)\n",
    "\n",
    "len(kochatgpt)"
   ]
  },
  {
   "cell_type": "code",
   "execution_count": 20,
   "metadata": {},
   "outputs": [
    {
     "data": {
      "text/plain": [
       "\"'어떤 앱인지 모르기 때문에 정확한 답변을 드리기 어렵습니다. 하지만, 일반적으로 유료 전환된 앱은 기존 무료 앱에서 추가적인 기능이나 서비스를 제공하는 경우가 많습니다. 이 경우, 유료 전환 이전 가격이 매우 저렴하거나 무료인 경우가 많으므로, 앱을 계속 사용하려면 추가적인 비용을 지불해야 할 수 있습니다. 하지만, 유료 전환 이후에는 기존 사용자 또는 새로운 사용자 모두가 추가 기능과 높은 품질의 서비스를 이용할 수 있게 됩니다. 따라서, 앱 개발자는 유료 모델로 전환함으로써 앱의 수익을 증가시키고 더 나은 서비스를 제공할 수 있습니다.\""
      ]
     },
     "execution_count": 20,
     "metadata": {},
     "output_type": "execute_result"
    }
   ],
   "source": [
    "kochatgpt[1][\"completion\"]"
   ]
  },
  {
   "attachments": {},
   "cell_type": "markdown",
   "metadata": {},
   "source": [
    "### Korquad dataset"
   ]
  },
  {
   "cell_type": "code",
   "execution_count": 15,
   "metadata": {},
   "outputs": [
    {
     "data": {
      "text/plain": [
       "9619"
      ]
     },
     "execution_count": 15,
     "metadata": {},
     "output_type": "execute_result"
    }
   ],
   "source": [
    "data_path = data_list[2]\n",
    "\n",
    "korquad = []\n",
    "with jsonlines.open(os.path.join(DATA_DIR, data_path), \"r\") as f:\n",
    "    for line in f.iter():\n",
    "        korquad.append(line)\n",
    "\n",
    "len(korquad)"
   ]
  },
  {
   "attachments": {},
   "cell_type": "markdown",
   "metadata": {},
   "source": [
    "### OIG dataset"
   ]
  },
  {
   "cell_type": "code",
   "execution_count": 16,
   "metadata": {},
   "outputs": [
    {
     "data": {
      "text/plain": [
       "210282"
      ]
     },
     "execution_count": 16,
     "metadata": {},
     "output_type": "execute_result"
    }
   ],
   "source": [
    "data_path = data_list[3]\n",
    "\n",
    "oig = []\n",
    "with jsonlines.open(os.path.join(DATA_DIR, data_path), \"r\") as f:\n",
    "    for line in f.iter():\n",
    "        oig.append(line)\n",
    "\n",
    "len(oig)"
   ]
  },
  {
   "attachments": {},
   "cell_type": "markdown",
   "metadata": {},
   "source": [
    "### ShareGPT Korean dataset"
   ]
  },
  {
   "cell_type": "code",
   "execution_count": 49,
   "metadata": {},
   "outputs": [
    {
     "ename": "KeyboardInterrupt",
     "evalue": "",
     "output_type": "error",
     "traceback": [
      "\u001b[0;31m---------------------------------------------------------------------------\u001b[0m",
      "\u001b[0;31mKeyboardInterrupt\u001b[0m                         Traceback (most recent call last)",
      "\u001b[0;32m/tmp/ipykernel_486168/3810352176.py\u001b[0m in \u001b[0;36m<module>\u001b[0;34m\u001b[0m\n\u001b[1;32m      2\u001b[0m \u001b[0;34m\u001b[0m\u001b[0m\n\u001b[1;32m      3\u001b[0m \u001b[0;32mwith\u001b[0m \u001b[0mopen\u001b[0m\u001b[0;34m(\u001b[0m\u001b[0mos\u001b[0m\u001b[0;34m.\u001b[0m\u001b[0mpath\u001b[0m\u001b[0;34m.\u001b[0m\u001b[0mjoin\u001b[0m\u001b[0;34m(\u001b[0m\u001b[0mDATA_DIR\u001b[0m\u001b[0;34m,\u001b[0m \u001b[0mdata_path\u001b[0m\u001b[0;34m)\u001b[0m\u001b[0;34m,\u001b[0m \u001b[0;34m\"r\"\u001b[0m\u001b[0;34m)\u001b[0m \u001b[0;32mas\u001b[0m \u001b[0mf\u001b[0m\u001b[0;34m:\u001b[0m\u001b[0;34m\u001b[0m\u001b[0;34m\u001b[0m\u001b[0m\n\u001b[0;32m----> 4\u001b[0;31m     \u001b[0msharegpt\u001b[0m \u001b[0;34m=\u001b[0m \u001b[0mjson\u001b[0m\u001b[0;34m.\u001b[0m\u001b[0mload\u001b[0m\u001b[0;34m(\u001b[0m\u001b[0mf\u001b[0m\u001b[0;34m)\u001b[0m\u001b[0;34m\u001b[0m\u001b[0;34m\u001b[0m\u001b[0m\n\u001b[0m\u001b[1;32m      5\u001b[0m \u001b[0;34m\u001b[0m\u001b[0m\n\u001b[1;32m      6\u001b[0m \u001b[0mlen\u001b[0m\u001b[0;34m(\u001b[0m\u001b[0msharegpt\u001b[0m\u001b[0;34m)\u001b[0m\u001b[0;34m\u001b[0m\u001b[0;34m\u001b[0m\u001b[0m\n",
      "\u001b[0;32m/opt/conda/lib/python3.7/json/__init__.py\u001b[0m in \u001b[0;36mload\u001b[0;34m(fp, cls, object_hook, parse_float, parse_int, parse_constant, object_pairs_hook, **kw)\u001b[0m\n\u001b[1;32m    291\u001b[0m     \u001b[0mkwarg\u001b[0m\u001b[0;34m;\u001b[0m \u001b[0motherwise\u001b[0m\u001b[0;31m \u001b[0m\u001b[0;31m`\u001b[0m\u001b[0;31m`\u001b[0m\u001b[0mJSONDecoder\u001b[0m\u001b[0;31m`\u001b[0m\u001b[0;31m`\u001b[0m \u001b[0;32mis\u001b[0m \u001b[0mused\u001b[0m\u001b[0;34m.\u001b[0m\u001b[0;34m\u001b[0m\u001b[0;34m\u001b[0m\u001b[0m\n\u001b[1;32m    292\u001b[0m     \"\"\"\n\u001b[0;32m--> 293\u001b[0;31m     return loads(fp.read(),\n\u001b[0m\u001b[1;32m    294\u001b[0m         \u001b[0mcls\u001b[0m\u001b[0;34m=\u001b[0m\u001b[0mcls\u001b[0m\u001b[0;34m,\u001b[0m \u001b[0mobject_hook\u001b[0m\u001b[0;34m=\u001b[0m\u001b[0mobject_hook\u001b[0m\u001b[0;34m,\u001b[0m\u001b[0;34m\u001b[0m\u001b[0;34m\u001b[0m\u001b[0m\n\u001b[1;32m    295\u001b[0m         \u001b[0mparse_float\u001b[0m\u001b[0;34m=\u001b[0m\u001b[0mparse_float\u001b[0m\u001b[0;34m,\u001b[0m \u001b[0mparse_int\u001b[0m\u001b[0;34m=\u001b[0m\u001b[0mparse_int\u001b[0m\u001b[0;34m,\u001b[0m\u001b[0;34m\u001b[0m\u001b[0;34m\u001b[0m\u001b[0m\n",
      "\u001b[0;31mKeyboardInterrupt\u001b[0m: "
     ]
    }
   ],
   "source": [
    "data_path = data_list[4]\n",
    "\n",
    "with open(os.path.join(DATA_DIR, data_path), \"r\") as f:\n",
    "    sharegpt = json.load(f)\n",
    "\n",
    "len(sharegpt)"
   ]
  },
  {
   "attachments": {},
   "cell_type": "markdown",
   "metadata": {},
   "source": [
    "### KULLM-v2 dataset"
   ]
  },
  {
   "cell_type": "code",
   "execution_count": 17,
   "metadata": {},
   "outputs": [
    {
     "data": {
      "text/plain": [
       "152630"
      ]
     },
     "execution_count": 17,
     "metadata": {},
     "output_type": "execute_result"
    }
   ],
   "source": [
    "data_path = data_list[5]\n",
    "\n",
    "kullm = []\n",
    "with jsonlines.open(os.path.join(DATA_DIR, data_path), \"r\") as f:\n",
    "    for line in f.iter():\n",
    "        kullm.append(line)\n",
    "\n",
    "len(kullm)"
   ]
  },
  {
   "cell_type": "code",
   "execution_count": 52,
   "metadata": {},
   "outputs": [
    {
     "name": "stdout",
     "output_type": "stream",
     "text": [
      "{'instruction': '양파는 어떤 식물 부위인가요? 그리고 고구마는 뿌리인가요?', 'output': '양파는 잎이 아닌 식물의 줄기 부분입니다. 고구마는 식물의 뿌리 부분입니다. \\n\\n식물의 부위의 구분에 대해 궁금해하는 분이라면 분명 이 질문에 대한 답을 찾고 있을 것입니다. 양파는 잎이 아닌 줄기 부분입니다. 고구마는 다른 질문과 답변에서 언급된 것과 같이 뿌리 부분입니다. 따라서, 양파는 식물의 줄기 부분이 되고, 고구마는 식물의 뿌리 부분입니다.\\n\\n 덧붙이는 답변: 고구마 줄기도 볶아먹을 수 있나요? \\n\\n고구마 줄기도 식용으로 볶아먹을 수 있습니다. 하지만 줄기 뿐만 아니라, 잎, 씨, 뿌리까지 모든 부위가 식용으로 활용되기도 합니다. 다만, 한국에서는 일반적으로 뿌리 부분인 고구마를 주로 먹습니다.', 'url': 'https://kin.naver.com/qna/detail.naver?d1id=11&dirId=1116&docId=55320268'}\n",
      "{'prompt': '불고기용 고기 한우에요?', 'completion': \"'저는 인공지능 챗봇이며, 직접적으로 식품에 관한 정보를 가지고 있지 않습니다. 하지만 일반적으로 불고기용 고기는 한우, 쇠고기, 돼지고기 등 다양한 종류의 고기를 사용합니다. 하지만 한우는 대표적인 고급 육류로 알려져 있기 때문에, 한우를 사용하는 경우도 많습니다. 알러지나 개별 건강 상태에 따라 다를 수 있으니 충분한 정보 수집 후에 선택해 주시기 바랍니다.\", 'tokens': 193}\n",
      "{'source': 'korquad-chat', 'text': '<sys>1839년 바그너는 괴테의 파우스트을 처음 읽고 그 내용에 마음이 끌려 이를 소재로 해서 하나의 교향곡을 쓰려는 뜻을 갖는다. 이 시기 바그너는 1838년에 빛 독촉으로 산전수전을 다 걲은 상황이라 좌절과 실망에 가득했으며 메피스토펠레스를 만나는 파우스트의 심경에 공감했다고 한다. 또한 파리에서 아브네크의 지휘로 파리 음악원 관현악단이 연주하는 베토벤의 교향곡 9번을 듣고 깊은 감명을 받았는데, 이것이 이듬해 1월에 파우스트의 서곡으로 쓰여진 이 작품에 조금이라도 영향을 끼쳤으리라는 것은 의심할 여지가 없다. 여기의 라단조 조성의 경우에도 그의 전기에 적혀 있는 것처럼 단순한 정신적 피로나 실의가 반영된 것이 아니라 베토벤의 합창교향곡 조성의 영향을 받은 것을 볼 수 있다. 그렇게 교향곡 작곡을 1839년부터 40년에 걸쳐 파리에서 착수했으나 1악장을 쓴 뒤에 중단했다. 또한 작품의 완성과 동시에 그는 이 서곡(1악장)을 파리 음악원의 연주회에서 연주할 파트보까지 준비하였으나, 실제로는 이루어지지는 않았다. 결국 초연은 4년 반이 지난 후에 드레스덴에서 연주되었고 재연도 이루어졌지만, 이후에 그대로 방치되고 말았다. 그 사이에 그는 리엔치와 방황하는 네덜란드인을 완성하고 탄호이저에도 착수하는 등 분주한 시간을 보냈는데, 그런 바쁜 생활이 이 곡을 잊게 한 것이 아닌가 하는 의견도 있다.\\n<usr> 바그너가 1839년에 파우스트를 소재로 한 교향곡 작곡을 시작했다는데, 왜 이 소재에 마음이 끌렸을까요?\\n<bot> 바그너는 파우스트의 메피스토펠레스를 만나는 파우스트의 심경에 공감했기 때문입니다. 또한 바그너는 파리에서 베토벤의 교향곡 9번을 듣고 깊은 감명을 받았고, 이것이 이 작품에 조금 영향을 끼쳤다고 합니다.\\n<usr> 작곡을 시작한 이후 작업은 어떻게 진행됐나요?\\n<bot> 작곡을 시작한 1839년부터 40년에 걸쳐 파리에서 작업을 시작했지만, 1악장을 쓴 뒤 중단하게 됐습니다. 그리고 이 간 동안 리엔치와 방황하는 네덜란드인을 완성하고 탄호이저에도 착수하는 등 바쁜 시간을 보냈는데 이런 바쁜 생활이 이 곡을 잊게 한 것이 아닐까 추측되고 있습니다.\\n<usr> 그렇다면 이 작품이 연주되지 않은 이유는 무엇인가요?\\n<bot> 작품의 완성과 동시에 그는 이 서곡(1악장)을 파리 음악원의 연주회에서 연주할 파트보까지 준비하였지만, 실제로는 이루어지지 않았습니다. 결국 초연은 4년 반이 지난 후에 드레스덴에서 연주되었고, 재연도 이루어졌지만, 이후에는 그대로 방치되고 말았습니다.'}\n",
      "{'user': \"I've heard that it's a good idea to have a will. What is a will?\\n\\n\", 'chip2': \"A will is a legal document that specifies how your property should be distributed after you die. It can also specify who should care for any children or other dependents you may have. It's important to make sure that your will is valid and up-to-date, since the laws governing wills vary from state to state.\", 'index': 0, 'user_translated': '유언장이 있는 것이 좋다는 말을 들었습니다. 유언장이란 무엇입니까?\\n\\n', 'chip2_translated': '유언장은 귀하가 사망한 후 귀하의 재산이 어떻게 분배되어야 하는지를 지정하는 법적 문서입니다. 또한 귀하가 가질 수 있는 자녀나 기타 부양가족을 누가 돌봐야 하는지 명시할 수 있습니다. 유언장에 적용되는 법률이 주마다 다르기 때문에 귀하의 유언장이 유효하고 최신인지 확인하는 것이 중요합니다.'}\n",
      "{'id': 'vicuna_{idx}', 'instruction': '이것이 난수를 생성하는 가장 좋은 방법일까요?const code = Math.floor(100000 + Math.random() \\\\* 900000);', 'input': '', 'output': \"제공한 코드입니다:```const code = Math.floor(100000 + Math.random() * 900000);```는 100000에서 999999 사이의 난수를 생성하므로 사용 사례에 적합할 수 있습니다. 그러나 이 방법은 난수를 생성하는 암호학적으로 안전한 방법으로 간주되지 않습니다.대신 암호학적으로 안전한 난수 생성기(CSPRNG)를 사용하는 것이 좋습니다. Node.js의 `crypto` 모듈은 암호학적으로 강력한 의사 난수 데이터를 생성하는 `randomBytes()` 함수를 제공합니다.다음은 `crypto.randomBytes()`를 사용하여 임의의 6자리 코드를 생성하는 방법의 예입니다:```const crypto = require('crypto');const code = crypto.randomBytes(3).toString('hex');console.log(code);```이렇게 하면 6개의 16진수 문자(0-9 및 a-f)로 구성된 임의의 문자열이 생성되며, 이 문자열을 코드로 사용할 수 있습니다.생성된 난수는 비밀로 유지되어야 하며 일반 텍스트로 저장해서는 안 된다는 점을 명심해야 합니다.\"}\n"
     ]
    }
   ],
   "source": [
    "# print(koalpaca_v1_0[0])\n",
    "print(koalpaca_v1_1[0])\n",
    "print(kochatgpt[0])\n",
    "print(korquad[0])\n",
    "print(oig[0])\n",
    "# print(sharegpt[0])\n",
    "print(kullm[-11])"
   ]
  },
  {
   "cell_type": "code",
   "execution_count": 53,
   "metadata": {},
   "outputs": [
    {
     "name": "stdout",
     "output_type": "stream",
     "text": [
      "Unifying except for Korquad dataset\n"
     ]
    },
    {
     "name": "stderr",
     "output_type": "stream",
     "text": [
      "100%|██████████| 21155/21155 [00:03<00:00, 6393.07it/s] \n",
      "100%|██████████| 12000/12000 [00:01<00:00, 6788.38it/s] \n",
      "100%|██████████| 210282/210282 [00:15<00:00, 13576.55it/s]\n",
      "100%|██████████| 152630/152630 [00:29<00:00, 5132.82it/s]"
     ]
    },
    {
     "name": "stdout",
     "output_type": "stream",
     "text": [
      "137583\n"
     ]
    },
    {
     "name": "stderr",
     "output_type": "stream",
     "text": [
      "\n"
     ]
    },
    {
     "data": {
      "text/plain": [
       "381020"
      ]
     },
     "execution_count": 53,
     "metadata": {},
     "output_type": "execute_result"
    }
   ],
   "source": [
    "import re\n",
    "from tqdm import tqdm\n",
    "\n",
    "def to_dialog(data, inst_key, out_key, domain):\n",
    "    dialog = []\n",
    "    for sample in tqdm(data, total=len(data)):\n",
    "        output = re.sub(r\".(\\d).\", r\".\\n\\1.\", sample[out_key])\n",
    "        output = re.sub(r\"\\?(\\w)\", r\"\\?\\n\\1\", sample[out_key])\n",
    "        \n",
    "        dialog.append(\n",
    "            [{\"domain\": domain, \"from\": \"human\", \"value\": sample[inst_key]},\n",
    "             {\"domain\": domain, \"from\": \"bot\", \"value\": output}]\n",
    "        )\n",
    "    \n",
    "    return dialog\n",
    "        \n",
    "\n",
    "print(\"Unifying except for Korquad dataset\")\n",
    "unified_data = []\n",
    "\n",
    "# koalpacav1.1\n",
    "unified_data.extend(to_dialog(koalpaca_v1_1, \"instruction\", \"output\", \"general\"))\n",
    "# kochatgpt\n",
    "unified_data.extend(to_dialog(kochatgpt, \"prompt\", \"completion\", \"general\"))\n",
    "# OIG\n",
    "unified_data.extend(to_dialog(oig, \"user_translated\", \"chip2_translated\", \"general\"))\n",
    "# ShareGPT\n",
    "# unified_data.extend(to_dialog(sharegpt, \"instruction\", \"output\"))\n",
    "    \n",
    "# KULLM-v2\n",
    "processed_kullm = []\n",
    "for sample in tqdm(kullm, total=len(kullm)):\n",
    "    if sample[\"input\"]:\n",
    "        inst = sample[\"instruction\"].strip()+\"\\n\\n\"+sample[\"input\"].strip()\n",
    "    else:\n",
    "        inst = sample[\"instruction\"].strip()\n",
    "        \n",
    "    if len(inst) <= 15:\n",
    "        continue\n",
    "    \n",
    "    output = re.sub(r\".(\\d).\", r\".\\n\\1.\", sample[\"output\"])\n",
    "        \n",
    "    processed_kullm.append(\n",
    "        [{\"from\": \"human\", \"value\": inst},\n",
    "         {\"from\": \"bot\", \"value\": output}]\n",
    "    )\n",
    "print(len(processed_kullm))\n",
    "unified_data.extend(processed_kullm)\n",
    "\n",
    "# unified_data.extend(koalpaca_v1_0)\n",
    "    \n",
    "len(unified_data)"
   ]
  },
  {
   "attachments": {},
   "cell_type": "markdown",
   "metadata": {},
   "source": [
    "### Processing Korquard dataset"
   ]
  },
  {
   "cell_type": "code",
   "execution_count": 3,
   "metadata": {},
   "outputs": [
    {
     "data": {
      "text/plain": [
       "9228"
      ]
     },
     "execution_count": 3,
     "metadata": {},
     "output_type": "execute_result"
    }
   ],
   "source": [
    "for sample in korquad:#, total=len(korquad)):\n",
    "    try:\n",
    "        turns = sample[\"text\"].split(\"\\n\")\n",
    "        context = turns[0].split(\">\")[1].strip()\n",
    "        dialog = []\n",
    "        for turn in turns[1:]:\n",
    "            splited = turn.split(\">\")\n",
    "            role = splited[0][1:]\n",
    "            text = splited[1].strip()\n",
    "            dialog.append({\"role\": role, \"text\": text})\n",
    "            \n",
    "        assert dialog[0][\"role\"]==\"usr\" and len(dialog)%2==0\n",
    "        \n",
    "        inst_res = []\n",
    "        for i in range(0, len(dialog), 2):\n",
    "            user = dialog[i][\"text\"]\n",
    "            if i==0:\n",
    "                user = context.strip()+\"\\n\\n\"+user.strip()\n",
    "            bot = dialog[i+1][\"text\"]\n",
    "        \n",
    "            inst_res.extend(\n",
    "                [{\"from\": \"human\", \"value\": user},\n",
    "                 {\"from\": \"bot\", \"value\": bot}]\n",
    "            )\n",
    "        \n",
    "        unified_data.append(inst_res)\n",
    "    except:\n",
    "        pass\n",
    "    \n",
    "len(unified_data)"
   ]
  },
  {
   "attachments": {},
   "cell_type": "markdown",
   "metadata": {},
   "source": [
    "### AI hub 주제별 일상 대화 데이터"
   ]
  },
  {
   "cell_type": "code",
   "execution_count": 3,
   "metadata": {},
   "outputs": [],
   "source": [
    "from glob import glob\n",
    "import json\n",
    "\n",
    "chitchat_list = glob(\"../data/AIhub_chitchat/*.json\")\n",
    "chitchat_data = []\n",
    "\n",
    "for path in chitchat_list:\n",
    "    with open(path, \"r\") as fin:\n",
    "        chitchat_data = json.load(fin)"
   ]
  },
  {
   "cell_type": "code",
   "execution_count": 4,
   "metadata": {},
   "outputs": [
    {
     "data": {
      "text/plain": [
       "{'dataset': {'identifier': 134211,\n",
       "  'name': 'KAKAO_1967_11_set',\n",
       "  'src_path': '/data/file/cubeManager/PROJECT001/84/txt20211104172023092542/KAKAO_1967_11_set/',\n",
       "  'label_path': '/data/file/cubeManager/PROJECT001/84/txt20211104172023092542/KAKAO_1967_11_set/',\n",
       "  'category': 2,\n",
       "  'type': 0},\n",
       " 'licenses': {'name': 'Apache License 1.0',\n",
       "  'url': 'http://www.apache.org/licenses/LICENSE-1.0'},\n",
       " 'info': [{'id': 136638,\n",
       "   'filename': 'KAKAO_1967_11.txt',\n",
       "   'title': 'KAKAO_1967_11',\n",
       "   'mediatype': 'SNS',\n",
       "   'medianame': '카카오톡',\n",
       "   'category': '일상대화',\n",
       "   'date': '2021-11-04',\n",
       "   'size': 332,\n",
       "   'annotations': {'subject': '게임',\n",
       "    'speaker_type': '다자간 대화',\n",
       "    'size': 332,\n",
       "    'word_size': 109,\n",
       "    'text': '1 : 그래서 낚시 게임 이름좀...\\n2 : 그니까 좀 갈켜줘\\n3 : 아 **가 알아서 물어볼게 키키\\n1 : 나도 깔아서 해볼래\\n2 : 깔아서 한번 뜨자\\n3 : 나중에 바로 알려줌 키키\\n1 : 아 **이 하는 거야?\\n2 : **가 하는 거구나 키키\\n3 : 어어 **가 하는 거야 키키\\n1 : 낚시 게임까지 깔다니...\\n2 : 그 아이 실제 낚시는 못하는데 겜은 잘하니\\n3 : 낚시 가고싶은데 못가니까 키키\\n1 : 그거 친추 가능함?\\n2 : 친추 가능하겠지 키키\\n3 : 게임에서는 완전 대어잡지\\n1 : 혼자서 하는 게임이야?\\n2 : 강태공인가보구나 겜에선 키키\\n3 : 현실은 꽝이지만...\\n3 : 같이할 수 있는지 모르겠다 키키',\n",
       "    'lines': [{'id': 1,\n",
       "      'text': '1 : 그래서 낚시 게임 이름좀...',\n",
       "      'norm_text': '그래서 낚시 게임 이름좀...',\n",
       "      'speaker': {'id': '1번', 'sex': '여성', 'age': '30대'},\n",
       "      'speechAct': '(단언) 주장하기',\n",
       "      'morpheme': '그래서/MAJ+낚시/NNG+게임/NNG+이름/NNG+좀/MAG+./SY'},\n",
       "     {'id': 2,\n",
       "      'text': '2 : 그니까 좀 갈켜줘',\n",
       "      'norm_text': '그니까 좀 갈켜줘',\n",
       "      'speaker': {'id': '2번', 'sex': '남성', 'age': '30대'},\n",
       "      'speechAct': '(단언) 주장하기',\n",
       "      'morpheme': '그니까/MAJ+좀/MAG+갈켜/VV+EC+줘/VX+EC'},\n",
       "     {'id': 3,\n",
       "      'text': '3 : 아 **가 알아서 물어볼게 키키',\n",
       "      'norm_text': '아 **가 알아서 물어볼게 키키',\n",
       "      'speaker': {'id': '3번', 'sex': '남성', 'age': '30대'},\n",
       "      'speechAct': '(단언) 주장하기',\n",
       "      'morpheme': '아/IC+*/SY+*/SY+가/JKS+알/VV+아서/EC+물어볼/VV+ETM+게/NNB+JKS+키/NNG+키/XSV+ETN'},\n",
       "     {'id': 4,\n",
       "      'text': '1 : 나도 깔아서 해볼래',\n",
       "      'norm_text': '나도 깔아서 해볼래',\n",
       "      'speaker': {'id': '1번', 'sex': '여성', 'age': '30대'},\n",
       "      'speechAct': '(단언) 주장하기',\n",
       "      'morpheme': '나/NP+도/JX+깔/VV+아서/EC+해/VV+EC+볼래/VX+EC'},\n",
       "     {'id': 5,\n",
       "      'text': '2 : 깔아서 한번 뜨자',\n",
       "      'norm_text': '깔아서 한번 뜨자',\n",
       "      'speaker': {'id': '2번', 'sex': '남성', 'age': '30대'},\n",
       "      'speechAct': '(단언) 주장하기',\n",
       "      'morpheme': '깔/VV+아서/EC+한/MM+번/NNBC+뜨/VV+자/EC'},\n",
       "     {'id': 6,\n",
       "      'text': '3 : 나중에 바로 알려줌 키키',\n",
       "      'norm_text': '나중에 바로 알려줌 키키',\n",
       "      'speaker': {'id': '3번', 'sex': '남성', 'age': '30대'},\n",
       "      'speechAct': '(단언) 주장하기',\n",
       "      'morpheme': '나중/NNG+에/JKB+바로/MAG+알려줌/VV+EC+VX+ETN+키/NNG+키/XSV+ETN'},\n",
       "     {'id': 7,\n",
       "      'text': '1 : 아 **이 하는 거야?',\n",
       "      'norm_text': '아 **이 하는 거야?',\n",
       "      'speaker': {'id': '1번', 'sex': '여성', 'age': '30대'},\n",
       "      'speechAct': '(지시) 질문하기',\n",
       "      'morpheme': '아/IC+*/SY+*/SY+이/JKS+하/VV+는/ETM+거/NNB+야/VCP+EF'},\n",
       "     {'id': 8,\n",
       "      'text': '2 : **가 하는 거구나 키키',\n",
       "      'norm_text': '**가 하는 거구나 키키',\n",
       "      'speaker': {'id': '2번', 'sex': '남성', 'age': '30대'},\n",
       "      'speechAct': '(단언) 주장하기',\n",
       "      'morpheme': '*/SY+*/SY+가/JKS+하/VV+는/ETM+거/NNB+구나/VCP+EC+키/NNG+키/XSV+ETN'},\n",
       "     {'id': 9,\n",
       "      'text': '3 : 어어 **가 하는 거야 키키',\n",
       "      'norm_text': '어어 **가 하는 거야 키키',\n",
       "      'speaker': {'id': '3번', 'sex': '남성', 'age': '30대'},\n",
       "      'speechAct': '(단언) 주장하기',\n",
       "      'morpheme': '어/IC+어/IC+*/SY+*/SY+가/JKS+하/VV+는/ETM+거/NNB+야/VCP+EF+키/NNG+키/XSV+ETN'},\n",
       "     {'id': 10,\n",
       "      'text': '1 : 낚시 게임까지 깔다니...',\n",
       "      'norm_text': '낚시 게임까지 깔다니...',\n",
       "      'speaker': {'id': '1번', 'sex': '여성', 'age': '30대'},\n",
       "      'speechAct': '(단언) 주장하기',\n",
       "      'morpheme': '낚시/NNG+게임/NNG+까지/JX+깔/VV+다니/EF+./SY'},\n",
       "     {'id': 11,\n",
       "      'text': '2 : 그 아이 실제 낚시는 못하는데 겜은 잘하니',\n",
       "      'norm_text': '그 아이 실제 낚시는 못하는데 겜은 잘하니',\n",
       "      'speaker': {'id': '2번', 'sex': '남성', 'age': '30대'},\n",
       "      'speechAct': '(단언) 주장하기',\n",
       "      'morpheme': '그/MM+아이/NNG+실제/NNG+낚시/NNG+는/JX+못하/VX+는데/EC+겜/NNP+은/JX+잘/MAG+하/VV+니/EC'},\n",
       "     {'id': 12,\n",
       "      'text': '3 : 낚시 가고싶은데 못가니까 키키',\n",
       "      'norm_text': '낚시 가고싶은데 못가니까 키키',\n",
       "      'speaker': {'id': '3번', 'sex': '남성', 'age': '30대'},\n",
       "      'speechAct': '(단언) 주장하기',\n",
       "      'morpheme': '낚시/NNG+가/VV+고/EC+싶/VX+은데/EC+못/MAG+가/VV+니까/EC+키/NNG+키/XSV+ETN'},\n",
       "     {'id': 13,\n",
       "      'text': '1 : 그거 친추 가능함?',\n",
       "      'norm_text': '그거 친추 가능함?',\n",
       "      'speaker': {'id': '1번', 'sex': '여성', 'age': '30대'},\n",
       "      'speechAct': '(지시) 질문하기',\n",
       "      'morpheme': '그/MM+거친/VA+ETM+추/NNG+가능/NNG+함/XSV+ETN'},\n",
       "     {'id': 14,\n",
       "      'text': '2 : 친추 가능하겠지 키키',\n",
       "      'norm_text': '친추 가능하겠지 키키',\n",
       "      'speaker': {'id': '2번', 'sex': '남성', 'age': '30대'},\n",
       "      'speechAct': '(단언) 주장하기',\n",
       "      'morpheme': '친/XPN+추/NNG+가능/NNG+하/XSV+겠/EP+지/EC+키/NNG+키/XSV+ETN'},\n",
       "     {'id': 15,\n",
       "      'text': '3 : 게임에서는 완전 대어잡지',\n",
       "      'norm_text': '게임에서는 완전 대어잡지',\n",
       "      'speaker': {'id': '3번', 'sex': '남성', 'age': '30대'},\n",
       "      'speechAct': '(단언) 주장하기',\n",
       "      'morpheme': '게임/NNG+에서/JKB+는/JX+완전/MAG+대/VV+어/EC+잡지/NNG'},\n",
       "     {'id': 16,\n",
       "      'text': '1 : 혼자서 하는 게임이야?',\n",
       "      'norm_text': '혼자서 하는 게임이야?',\n",
       "      'speaker': {'id': '1번', 'sex': '여성', 'age': '30대'},\n",
       "      'speechAct': '(지시) 질문하기',\n",
       "      'morpheme': '혼자/NNG+서/JKB+하/VV+는/ETM+게임/NNG+이/VCP+야/EF'},\n",
       "     {'id': 17,\n",
       "      'text': '2 : 강태공인가보구나 겜에선 키키',\n",
       "      'norm_text': '강태공인가보구나 겜에선 키키',\n",
       "      'speaker': {'id': '2번', 'sex': '남성', 'age': '30대'},\n",
       "      'speechAct': '(단언) 주장하기',\n",
       "      'morpheme': '강태공/NNG+인가/VCP+EC+보/VX+구나/EF+겜/NNP+에/JKB+선키/NNG+키/XSV+ETN'},\n",
       "     {'id': 18,\n",
       "      'text': '3 : 현실은 꽝이지만...',\n",
       "      'norm_text': '현실은 꽝이지만...',\n",
       "      'speaker': {'id': '3번', 'sex': '남성', 'age': '30대'},\n",
       "      'speechAct': '(단언) 주장하기',\n",
       "      'morpheme': '현실/NNG+은/JX+꽝/NNG+이/VCP+지만/EC+./SY+./SY'},\n",
       "     {'id': 19,\n",
       "      'text': '3 : 같이할 수 있는지 모르겠다 키키',\n",
       "      'norm_text': '같이할 수 있는지 모르겠다 키키',\n",
       "      'speaker': {'id': '3번', 'sex': '남성', 'age': '30대'},\n",
       "      'speechAct': '(단언) 주장하기',\n",
       "      'morpheme': '같이/MAG+할/VV+ETM+수/NNB+있/VV+는지/EC+모르/VV+겠/EP+다키키/NNP'}]}}]}"
      ]
     },
     "execution_count": 4,
     "metadata": {},
     "output_type": "execute_result"
    }
   ],
   "source": []
  },
  {
   "cell_type": "code",
   "execution_count": 7,
   "metadata": {},
   "outputs": [],
   "source": [
    "from tqdm import tqdm\n",
    "import torch\n",
    "import transformers\n",
    "from transformers import (\n",
    "    MODEL_FOR_CAUSAL_LM_MAPPING,\n",
    "    Trainer,\n",
    "    set_seed,\n",
    "    AutoConfig,\n",
    "    CONFIG_MAPPING\n",
    ")\n",
    "\n",
    "import sys\n",
    "sys.path.append(\"../\")\n",
    "\n",
    "from model_utils.conversation import get_conv_template, SeparatorStyle\n",
    "from typing import Optional, Dict, Sequence\n",
    "\n",
    "IGNORE_INDEX = -100\n",
    "\n",
    "def preprocess(\n",
    "    sources,\n",
    "    tokenizer: transformers.PreTrainedTokenizer,\n",
    ") -> Dict:\n",
    "    conv = get_conv_template(\"elementgpt_for_general\")\n",
    "    roles = {\"human\": conv.roles[0], \"bot\": conv.roles[1]}\n",
    "\n",
    "    # Apply prompt templates\n",
    "    conversations = []\n",
    "    for i, source in enumerate(sources):\n",
    "        if roles[source[0][\"from\"]] != conv.roles[0]:\n",
    "            # Skip the first one if it is not from human\n",
    "            source = source[1:]\n",
    "\n",
    "        conv.messages = []\n",
    "        for j, sentence in enumerate(source):\n",
    "            role = roles[sentence[\"from\"]]\n",
    "            assert role == conv.roles[j % 2], f\"{i}\"\n",
    "            conv.append_message(role, sentence[\"value\"])\n",
    "        conversations.append(conv.get_prompt())\n",
    "        \n",
    "    # Tokenize conversations\n",
    "    input_ids = []\n",
    "    targets = []\n",
    "    for i, conversation in enumerate(tqdm(conversations, desc=\"Tokenizing inputs\")):\n",
    "        input_ids_sample = tokenizer(\n",
    "            conversation,\n",
    "            return_tensors=\"pt\",\n",
    "            padding=\"longest\",\n",
    "            max_length=tokenizer.model_max_length,\n",
    "            truncation=True,\n",
    "        ).input_ids[0]\n",
    "        \n",
    "        input_ids.append(input_ids_sample)\n",
    "        targets.append(input_ids_sample.clone())\n",
    "\n",
    "    assert conv.sep_style == SeparatorStyle.ADD_COLON_TWO\n",
    "\n",
    "    print(\"Masking targets...\")\n",
    "    # Mask targets\n",
    "    sep = conv.sep + conv.roles[1] + \": \"\n",
    "    for conversation, target in tqdm(zip(conversations, targets), total=len(conversations)):\n",
    "        total_len = int(target.ne(tokenizer.pad_token_id).sum()) + 1\n",
    "\n",
    "        rounds = conversation.split(conv.sep2)\n",
    "        cur_len = 1\n",
    "        target[:cur_len] = IGNORE_INDEX\n",
    "\n",
    "        for i, rou in enumerate(rounds):\n",
    "            if rou == \"\":\n",
    "                break\n",
    "\n",
    "            parts = rou.split(sep)\n",
    "            if len(parts) != 2:\n",
    "                break\n",
    "            parts[0] += sep\n",
    "            round_len = len(tokenizer(rou).input_ids)\n",
    "            instruction_len = len(tokenizer(parts[0]).input_ids) - 2\n",
    "\n",
    "            target[cur_len : cur_len + instruction_len] = IGNORE_INDEX\n",
    "\n",
    "            cur_len += round_len\n",
    "        target[cur_len:] = IGNORE_INDEX\n",
    "\n",
    "        if False:\n",
    "            z = target.clone()\n",
    "            z = torch.where(z == IGNORE_TOKEN_ID, tokenizer.unk_token_id, z)\n",
    "            rank0_print(tokenizer.decode(z))\n",
    "\n",
    "        if cur_len < tokenizer.model_max_length:\n",
    "            if cur_len != total_len:\n",
    "                target[:] = IGNORE_INDEX\n",
    "                print(\n",
    "                    f\"WARNING: tokenization mismatch: {cur_len} vs. {total_len}.\",\n",
    "                    f\" (ignored)\"\n",
    "                )\n",
    "                print(conversation)\n",
    "\n",
    "    return dict(\n",
    "        input_ids=input_ids,\n",
    "        labels=targets,\n",
    "    )"
   ]
  },
  {
   "cell_type": "code",
   "execution_count": 8,
   "metadata": {},
   "outputs": [
    {
     "name": "stderr",
     "output_type": "stream",
     "text": [
      "Tokenizing inputs: 100%|██████████| 9228/9228 [00:13<00:00, 692.22it/s]\n"
     ]
    },
    {
     "name": "stdout",
     "output_type": "stream",
     "text": [
      "Masking targets...\n"
     ]
    },
    {
     "name": "stderr",
     "output_type": "stream",
     "text": [
      "100%|██████████| 9228/9228 [00:23<00:00, 386.77it/s]\n"
     ]
    }
   ],
   "source": [
    "tokenizer = transformers.AutoTokenizer.from_pretrained(\n",
    "    \"EleutherAI/polyglot-ko-1.3b\",\n",
    "    cache_dir=None,\n",
    "    model_max_length=2048,\n",
    "    padding_side=\"right\",\n",
    "    use_fast=False,\n",
    ")\n",
    "\n",
    "processed = preprocess(processed_korquad, tokenizer)"
   ]
  },
  {
   "cell_type": "code",
   "execution_count": 11,
   "metadata": {},
   "outputs": [
    {
     "data": {
      "text/plain": [
       "0.008885999133073256"
      ]
     },
     "execution_count": 11,
     "metadata": {},
     "output_type": "execute_result"
    }
   ],
   "source": [
    "input_ids = processed[\"input_ids\"]\n",
    "sum_len = 0\n",
    "for ids in input_ids:\n",
    "    if ids.shape[0] > 1024:\n",
    "        sum_len += 1\n",
    "    \n",
    "sum_len / len(input_ids)"
   ]
  },
  {
   "cell_type": "code",
   "execution_count": 55,
   "metadata": {},
   "outputs": [],
   "source": [
    "import json\n",
    "\n",
    "with open(\"../data/unified_instruction.json\", \"w\", encoding=\"utf-8\") as f:\n",
    "    json.dump(unified_data, f, ensure_ascii=False) # ensure_ascii로 한글이 깨지지 않게 저장"
   ]
  },
  {
   "cell_type": "code",
   "execution_count": 56,
   "metadata": {},
   "outputs": [
    {
     "data": {
      "text/plain": [
       "390248"
      ]
     },
     "execution_count": 56,
     "metadata": {},
     "output_type": "execute_result"
    }
   ],
   "source": [
    "len(unified_data)"
   ]
  },
  {
   "cell_type": "code",
   "execution_count": 160,
   "metadata": {},
   "outputs": [],
   "source": [
    "import sys\n",
    "sys.path.append(\"../\")\n",
    "from model_utils.conversation import get_conv_template\n",
    "\n",
    "conv = get_conv_template(\"elementgpt_for_general\")\n",
    "roles = {\"human\": conv.roles[0], \"bot\": conv.roles[1]}\n",
    "\n",
    "conversations = []\n",
    "for i, source in enumerate(unified_data[-10:]):\n",
    "    if roles[source[0][\"from\"]] != conv.roles[0]:\n",
    "        # Skip the first one if it is not from human\n",
    "        source = source[1:]\n",
    "\n",
    "    conv.messages = []\n",
    "    for j, sentence in enumerate(source):\n",
    "        role = roles[sentence[\"from\"]]\n",
    "        assert role == conv.roles[j % 2], f\"{i}\"\n",
    "        conv.append_message(role, sentence[\"value\"])\n",
    "    conversations.append(conv.get_prompt())"
   ]
  },
  {
   "cell_type": "code",
   "execution_count": 162,
   "metadata": {},
   "outputs": [
    {
     "data": {
      "text/plain": [
       "'호기심 많은 유저와 인공지능 어시스턴트 간의 채팅. 어시스턴트는 사용자의 질문에 도움이 되고 상세하며 정중한 답변을 합니다. USER: 울산경찰청 지능범죄수사대는 2018년 3월 16일 자유한국당 소속 울산시장인 김기현의 측근 비리를 포착해 울산시청을 압수수색하고, 김기현 동생에 대한 체포영장을 발부받아 수사에 착수했다. 그에 대해 장제원 자유한국당 수석대변인은 2018년 3월 22일 논평을 내고 경찰을 겨냥해 \"정권의 사냥개가 광견병까지 걸려 정권의 이익을 위해서라면 닥치는 대로 물어뜯기 시작했다. 미친개는 몽둥이가 약이다\" 등의 원색적인 비난을 쏟아냈다. 이에 대해 여론이 싸늘해 지자 장제원은 2018년 3월 28일 자신의 페이스북에서 논란이 된 논평에 대해 \\'경찰 전체가 아닌 울산경찰청장을 비롯한 일부 정치 경찰을 명시한 것\\'이라고 해명하며 \\'권력을 추종하는 정치경찰들을 반드시 추방해야 한다\\'고 재차 주장했다.\\n\\n최근 언론에서 울산시장 김기현 측근 비리와 관련된 뉴스가 자주 보이는데, 그에 대한 대응책이 어떻게 될까요? ASSISTANT: 경찰이 울산시청을 압수수색하고, 김기현 시장의 측근에 대한 수사를 진행하고 있다고 합니다.<|endoftext|>USER: 그렇군요. 그런데 자유한국당 수석대변인이 경찰을 겨냥한 언급이 있다고 들었습니다. 어떻게 생각하십니까? ASSISTANT: 그에 대해 장제원 수석대변인은 경찰 전체가 아닌 몇몇 정치경찰의 문제점을 지적한 것이라고 해명하였습니다.<|endoftext|>USER: 장제원 씨는 정치경찰의 추방을 주장하고 있다는데, 이에 대해 어떻게 생각하십니까? ASSISTANT: 저는 권력을 추종하는 정치경찰이 있다면 이에 대한 대응책을 마련하고, 법을 지키며 공정한 수사를 해나가는 것이 바람직하다고 생각합니다.<|endoftext|>'"
      ]
     },
     "execution_count": 162,
     "metadata": {},
     "output_type": "execute_result"
    }
   ],
   "source": [
    "conversations[2][]"
   ]
  }
 ],
 "metadata": {
  "kernelspec": {
   "display_name": "base",
   "language": "python",
   "name": "python3"
  },
  "language_info": {
   "codemirror_mode": {
    "name": "ipython",
    "version": 3
   },
   "file_extension": ".py",
   "mimetype": "text/x-python",
   "name": "python",
   "nbconvert_exporter": "python",
   "pygments_lexer": "ipython3",
   "version": "3.7.11"
  },
  "orig_nbformat": 4
 },
 "nbformat": 4,
 "nbformat_minor": 2
}
