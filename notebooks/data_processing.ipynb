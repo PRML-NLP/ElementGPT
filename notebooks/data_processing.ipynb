{
 "cells": [
  {
   "cell_type": "code",
   "execution_count": 62,
   "metadata": {},
   "outputs": [],
   "source": [
    "import os, json\n",
    "import jsonlines\n",
    "\n",
    "DATA_DIR = \"../data\"\n",
    "data_list = [\n",
    "    \"KoAlpaca/KoAlpaca_v1.1.jsonl\",\n",
    "    \"KoChatGPT/kochatgpt_1_SFT.jsonl\",\n",
    "    \"korquad-chat-v1/korquad-chat.json\",\n",
    "    \"OIG-small-chip2-ko/oig-smallchip2-dedu.jsonl\",\n",
    "    \"ShareGPT_DeepL/ko_alpaca_style_dataset.json\",\n",
    "    \"kullm_v2/kullm-v2.jsonl\",\n",
    "    \"KoAlpaca/ko_alpaca_data.json\"]"
   ]
  },
  {
   "attachments": {},
   "cell_type": "markdown",
   "metadata": {},
   "source": [
    "### KoAlpaca v1.0 dataset"
   ]
  },
  {
   "cell_type": "code",
   "execution_count": 44,
   "metadata": {},
   "outputs": [
    {
     "data": {
      "text/plain": [
       "49620"
      ]
     },
     "execution_count": 44,
     "metadata": {},
     "output_type": "execute_result"
    }
   ],
   "source": [
    "data_path = data_list[-1]\n",
    "\n",
    "with open(os.path.join(DATA_DIR, data_path), \"r\") as f:\n",
    "    koalpaca_v1_0 = json.load(f)\n",
    "\n",
    "len(koalpaca_v1_0)"
   ]
  },
  {
   "attachments": {},
   "cell_type": "markdown",
   "metadata": {},
   "source": [
    "### KoAlpaca v1.1 dataset"
   ]
  },
  {
   "cell_type": "code",
   "execution_count": 63,
   "metadata": {},
   "outputs": [
    {
     "data": {
      "text/plain": [
       "21155"
      ]
     },
     "execution_count": 63,
     "metadata": {},
     "output_type": "execute_result"
    }
   ],
   "source": [
    "data_path = data_list[0]\n",
    "\n",
    "koalpaca_v1_1 = []\n",
    "with jsonlines.open(os.path.join(DATA_DIR, data_path), \"r\") as f:\n",
    "    for line in f.iter():\n",
    "        koalpaca_v1_1.append(line)\n",
    "\n",
    "len(koalpaca_v1_1)"
   ]
  },
  {
   "attachments": {},
   "cell_type": "markdown",
   "metadata": {},
   "source": [
    "### KochatGPT SFT dataset"
   ]
  },
  {
   "cell_type": "code",
   "execution_count": 64,
   "metadata": {},
   "outputs": [
    {
     "data": {
      "text/plain": [
       "12000"
      ]
     },
     "execution_count": 64,
     "metadata": {},
     "output_type": "execute_result"
    }
   ],
   "source": [
    "data_path = data_list[1]\n",
    "with open(os.path.join(DATA_DIR, data_path), \"r\") as f:\n",
    "    kochatgpt = json.load(f)\n",
    "\n",
    "len(kochatgpt)"
   ]
  },
  {
   "attachments": {},
   "cell_type": "markdown",
   "metadata": {},
   "source": [
    "### Korquad dataset"
   ]
  },
  {
   "cell_type": "code",
   "execution_count": 65,
   "metadata": {},
   "outputs": [
    {
     "data": {
      "text/plain": [
       "9619"
      ]
     },
     "execution_count": 65,
     "metadata": {},
     "output_type": "execute_result"
    }
   ],
   "source": [
    "data_path = data_list[2]\n",
    "\n",
    "korquad = []\n",
    "with jsonlines.open(os.path.join(DATA_DIR, data_path), \"r\") as f:\n",
    "    for line in f.iter():\n",
    "        korquad.append(line)\n",
    "\n",
    "len(korquad)"
   ]
  },
  {
   "attachments": {},
   "cell_type": "markdown",
   "metadata": {},
   "source": [
    "### OIG dataset"
   ]
  },
  {
   "cell_type": "code",
   "execution_count": 66,
   "metadata": {},
   "outputs": [
    {
     "data": {
      "text/plain": [
       "210282"
      ]
     },
     "execution_count": 66,
     "metadata": {},
     "output_type": "execute_result"
    }
   ],
   "source": [
    "data_path = data_list[3]\n",
    "\n",
    "oig = []\n",
    "with jsonlines.open(os.path.join(DATA_DIR, data_path), \"r\") as f:\n",
    "    for line in f.iter():\n",
    "        oig.append(line)\n",
    "\n",
    "len(oig)"
   ]
  },
  {
   "attachments": {},
   "cell_type": "markdown",
   "metadata": {},
   "source": [
    "### KULLM-v2 dataset"
   ]
  },
  {
   "cell_type": "code",
   "execution_count": 67,
   "metadata": {},
   "outputs": [
    {
     "data": {
      "text/plain": [
       "152630"
      ]
     },
     "execution_count": 67,
     "metadata": {},
     "output_type": "execute_result"
    }
   ],
   "source": [
    "data_path = data_list[5]\n",
    "\n",
    "kullm = []\n",
    "with jsonlines.open(os.path.join(DATA_DIR, data_path), \"r\") as f:\n",
    "    for line in f.iter():\n",
    "        kullm.append(line)\n",
    "\n",
    "len(kullm)"
   ]
  },
  {
   "attachments": {},
   "cell_type": "markdown",
   "metadata": {},
   "source": [
    "### AI HUB BOOK SUMMARIZATION"
   ]
  },
  {
   "cell_type": "code",
   "execution_count": null,
   "metadata": {},
   "outputs": [],
   "source": [
    "import os\n",
    "from glob import glob\n",
    "from tqdm import tqdm\n",
    "\n",
    "json_files = glob(\"../data/AIhub_book_summary/*.json\")\n",
    "\n",
    "ins_format = \"다음 문단은 \\'{kdc_label}\\'로 분류된 문서의 일부분이다.\\n\\n{passage}\\n\\n이 문단을 간단히 요약하고 해당 문서의 제목을 지어줘\"\n",
    "res_format = \"문단 요약: {summary}\\n\\n{kdc_label} {doc_type} 제목 제안: \\\"{doc_name}\\\"\"\n",
    "\n",
    "book_summary = []\n",
    "for path in tqdm(json_files):\n",
    "    with open(path, \"r\") as f:\n",
    "        json_data = json.load(f)\n",
    "    data = json_data[\"metadata\"]\n",
    "    if \"교육\" in data[\"kdc_label\"]:\n",
    "        data[\"passage\"] = json_data[\"passage\"]\n",
    "        data[\"summary\"] = json_data[\"summary\"]\n",
    "        ins = ins_format.format_map(data)\n",
    "        res = res_format.format_map(data)\n",
    "        book_summary.append({\"instruction\":ins, \"output\":res})"
   ]
  },
  {
   "attachments": {},
   "cell_type": "markdown",
   "metadata": {},
   "source": [
    "### NAVERPEDIA_수업자료 생성 scenario\n",
    "\n",
    "우리아이 성장백과 -> 영양 과목 \\\n",
    "어린이백과_사회, 어린이백과_한국사, 어린이백과_세계탐구, 어린이백과_유적/유물 탐구 -> 사회 과목 \\\n",
    "어린이백과_과학, 어린이백과_과학탐구 -> 과학 과목 \\\n",
    "어린이백과_세계사 -> 세계사 과목 \\\n",
    "어린이백과_수학 -> 수학 과목 \\\n",
    "어린이백과_소프트웨어 -> 컴퓨터 과목\n",
    "\n"
   ]
  },
  {
   "cell_type": "code",
   "execution_count": 11,
   "metadata": {},
   "outputs": [
    {
     "name": "stderr",
     "output_type": "stream",
     "text": [
      "100%|██████████| 1/1 [00:00<00:00, 27.08it/s]\n"
     ]
    }
   ],
   "source": [
    "#영양, 사회, 세계사, 수학, 과학, 컴퓨터\n",
    "import os\n",
    "from glob import glob\n",
    "from tqdm import tqdm\n",
    "import json\n",
    "\n",
    "naverpedia_json_files = glob(\"/workspace/ElementGPT/data/web_crawled/naverpedia_class.json\")\n",
    "#format for 성장백과, 사회, 한국사, 세계사, 수학, 과학 \n",
    "ins_format = \"USER: 초등학생을 대상으로 \\'{title}\\'이라는 주제로 수업을 진행하려고해.\\{category}\\이라는 점을 고려해서 수업 자료를 작성해줘\"\n",
    "res_format = \"Assistant: {contents}\"\n",
    "\n",
    "for path in tqdm(naverpedia_json_files):\n",
    "    with open(path, \"r\") as f:\n",
    "        json_data = json.load(f)\n",
    "\n",
    "naverpedia= []\n",
    "for i in range(len(json_data)):\n",
    "    ins = ins_format.format_map(json_data[i])\n",
    "    res = res_format.format_map(json_data[i])\n",
    "    naverpedia.append({\"instruction\":ins, \"output\":res})\n"
   ]
  },
  {
   "cell_type": "code",
   "execution_count": 13,
   "metadata": {},
   "outputs": [
    {
     "name": "stdout",
     "output_type": "stream",
     "text": [
      "{'instruction': \"USER: 초등학생을 대상으로 '인터넷 중독 [Internet Addiction]'이라는 주제로 수업을 진행하려고해.\\\\컴퓨터 과목\\\\이라는 점을 고려해서 수업 자료를 작성해줘\", 'output': 'Assistant: ## 예시\\n인터넷 중독 증상에 대하여 다음과 같은 인터넷 사이트를 통하여 진단할 수 있습니다.https://www.iapc.or.kr/dia/survey/addDiaSurveyNew.do?dia_type_cd=IABO만약 중독 증상을 보인다면 전문가와 상담하여 치료를 받는 것이 좋습니다. 중독 증상에 대하여 교육이나 상담을 할 수 있는 곳은 다음과 같습니다.스마트 쉼 센터 1599-0075## 설명\\n인터넷에 중독되면 인터넷을 사용하지 않을 때 불안해지며 습관적으로 인터넷을 사용하게 됩니다. 또한 건강을 해치고 공부에 신경을 덜 쓰게 되며 친구 및 가족 관계에 소홀해지게 됩니다.'}\n"
     ]
    }
   ],
   "source": [
    "print(naverpedia[-1])"
   ]
  },
  {
   "attachments": {},
   "cell_type": "markdown",
   "metadata": {},
   "source": [
    "### NAVERPEDIA_manual하게 선별 필요 부분\n",
    "어린이백과_국어, 영어 \\\n",
    "어린이백과_예체능 \\\n",
    "어린이백과_시사/논술 \\\n",
    "어린이백과_문학 탐구 \\\n",
    "어린이백과_인물 탐구 \\\n",
    "어린이백과_지식e \\\n",
    "어린이백과_천재학습백과\n",
    "\n",
    "\n",
    "    tbd"
   ]
  },
  {
   "cell_type": "code",
   "execution_count": null,
   "metadata": {},
   "outputs": [],
   "source": []
  },
  {
   "cell_type": "code",
   "execution_count": 76,
   "metadata": {},
   "outputs": [
    {
     "name": "stdout",
     "output_type": "stream",
     "text": [
      "{'instruction': '양파는 어떤 식물 부위인가요? 그리고 고구마는 뿌리인가요?', 'output': '양파는 잎이 아닌 식물의 줄기 부분입니다. 고구마는 식물의 뿌리 부분입니다. \\n\\n식물의 부위의 구분에 대해 궁금해하는 분이라면 분명 이 질문에 대한 답을 찾고 있을 것입니다. 양파는 잎이 아닌 줄기 부분입니다. 고구마는 다른 질문과 답변에서 언급된 것과 같이 뿌리 부분입니다. 따라서, 양파는 식물의 줄기 부분이 되고, 고구마는 식물의 뿌리 부분입니다.\\n\\n 덧붙이는 답변: 고구마 줄기도 볶아먹을 수 있나요? \\n\\n고구마 줄기도 식용으로 볶아먹을 수 있습니다. 하지만 줄기 뿐만 아니라, 잎, 씨, 뿌리까지 모든 부위가 식용으로 활용되기도 합니다. 다만, 한국에서는 일반적으로 뿌리 부분인 고구마를 주로 먹습니다.', 'url': 'https://kin.naver.com/qna/detail.naver?d1id=11&dirId=1116&docId=55320268'}\n",
      "{'prompt': '불고기용 고기 한우에요?', 'completion': '저는 인공지능 챗봇이며, 직접적으로 식품에 관한 정보를 가지고 있지 않습니다. 하지만 일반적으로 불고기용 고기는 한우, 쇠고기, 돼지고기 등 다양한 종류의 고기를 사용합니다. 하지만 한우는 대표적인 고급 육류로 알려져 있기 때문에, 한우를 사용하는 경우도 많습니다. 알러지나 개별 건강 상태에 따라 다를 수 있으니 충분한 정보 수집 후에 선택해 주시기 바랍니다.', 'tokens': 193}\n",
      "{'source': 'korquad-chat', 'text': '<sys>1839년 바그너는 괴테의 파우스트을 처음 읽고 그 내용에 마음이 끌려 이를 소재로 해서 하나의 교향곡을 쓰려는 뜻을 갖는다. 이 시기 바그너는 1838년에 빛 독촉으로 산전수전을 다 걲은 상황이라 좌절과 실망에 가득했으며 메피스토펠레스를 만나는 파우스트의 심경에 공감했다고 한다. 또한 파리에서 아브네크의 지휘로 파리 음악원 관현악단이 연주하는 베토벤의 교향곡 9번을 듣고 깊은 감명을 받았는데, 이것이 이듬해 1월에 파우스트의 서곡으로 쓰여진 이 작품에 조금이라도 영향을 끼쳤으리라는 것은 의심할 여지가 없다. 여기의 라단조 조성의 경우에도 그의 전기에 적혀 있는 것처럼 단순한 정신적 피로나 실의가 반영된 것이 아니라 베토벤의 합창교향곡 조성의 영향을 받은 것을 볼 수 있다. 그렇게 교향곡 작곡을 1839년부터 40년에 걸쳐 파리에서 착수했으나 1악장을 쓴 뒤에 중단했다. 또한 작품의 완성과 동시에 그는 이 서곡(1악장)을 파리 음악원의 연주회에서 연주할 파트보까지 준비하였으나, 실제로는 이루어지지는 않았다. 결국 초연은 4년 반이 지난 후에 드레스덴에서 연주되었고 재연도 이루어졌지만, 이후에 그대로 방치되고 말았다. 그 사이에 그는 리엔치와 방황하는 네덜란드인을 완성하고 탄호이저에도 착수하는 등 분주한 시간을 보냈는데, 그런 바쁜 생활이 이 곡을 잊게 한 것이 아닌가 하는 의견도 있다.\\n<usr> 바그너가 1839년에 파우스트를 소재로 한 교향곡 작곡을 시작했다는데, 왜 이 소재에 마음이 끌렸을까요?\\n<bot> 바그너는 파우스트의 메피스토펠레스를 만나는 파우스트의 심경에 공감했기 때문입니다. 또한 바그너는 파리에서 베토벤의 교향곡 9번을 듣고 깊은 감명을 받았고, 이것이 이 작품에 조금 영향을 끼쳤다고 합니다.\\n<usr> 작곡을 시작한 이후 작업은 어떻게 진행됐나요?\\n<bot> 작곡을 시작한 1839년부터 40년에 걸쳐 파리에서 작업을 시작했지만, 1악장을 쓴 뒤 중단하게 됐습니다. 그리고 이 간 동안 리엔치와 방황하는 네덜란드인을 완성하고 탄호이저에도 착수하는 등 바쁜 시간을 보냈는데 이런 바쁜 생활이 이 곡을 잊게 한 것이 아닐까 추측되고 있습니다.\\n<usr> 그렇다면 이 작품이 연주되지 않은 이유는 무엇인가요?\\n<bot> 작품의 완성과 동시에 그는 이 서곡(1악장)을 파리 음악원의 연주회에서 연주할 파트보까지 준비하였지만, 실제로는 이루어지지 않았습니다. 결국 초연은 4년 반이 지난 후에 드레스덴에서 연주되었고, 재연도 이루어졌지만, 이후에는 그대로 방치되고 말았습니다.'}\n",
      "{'user': \"I've heard that it's a good idea to have a will. What is a will?\\n\\n\", 'chip2': \"A will is a legal document that specifies how your property should be distributed after you die. It can also specify who should care for any children or other dependents you may have. It's important to make sure that your will is valid and up-to-date, since the laws governing wills vary from state to state.\", 'index': 0, 'user_translated': '유언장이 있는 것이 좋다는 말을 들었습니다. 유언장이란 무엇입니까?\\n\\n', 'chip2_translated': '유언장은 귀하가 사망한 후 귀하의 재산이 어떻게 분배되어야 하는지를 지정하는 법적 문서입니다. 또한 귀하가 가질 수 있는 자녀나 기타 부양가족을 누가 돌봐야 하는지 명시할 수 있습니다. 유언장에 적용되는 법률이 주마다 다르기 때문에 귀하의 유언장이 유효하고 최신인지 확인하는 것이 중요합니다.'}\n",
      "{'id': 'vicuna_{idx}', 'instruction': '이것이 난수를 생성하는 가장 좋은 방법일까요?const code = Math.floor(100000 + Math.random() \\\\* 900000);', 'input': '', 'output': \"제공한 코드입니다:```const code = Math.floor(100000 + Math.random() * 900000);```는 100000에서 999999 사이의 난수를 생성하므로 사용 사례에 적합할 수 있습니다. 그러나 이 방법은 난수를 생성하는 암호학적으로 안전한 방법으로 간주되지 않습니다.대신 암호학적으로 안전한 난수 생성기(CSPRNG)를 사용하는 것이 좋습니다. Node.js의 `crypto` 모듈은 암호학적으로 강력한 의사 난수 데이터를 생성하는 `randomBytes()` 함수를 제공합니다.다음은 `crypto.randomBytes()`를 사용하여 임의의 6자리 코드를 생성하는 방법의 예입니다:```const crypto = require('crypto');const code = crypto.randomBytes(3).toString('hex');console.log(code);```이렇게 하면 6개의 16진수 문자(0-9 및 a-f)로 구성된 임의의 문자열이 생성되며, 이 문자열을 코드로 사용할 수 있습니다.생성된 난수는 비밀로 유지되어야 하며 일반 텍스트로 저장해서는 안 된다는 점을 명심해야 합니다.\"}\n",
      "다음 문단은 '교육일반'로 분류된 문서의 일부분이다.\n",
      "\n",
      "다섯째, 교과 콘텐츠 추가 개발 및 공개교육자료(OERs, open educational resources) 확보가 필요하다. 현재 온라인수업은 방송통신중･고등학교 학습 콘텐츠를 활용하고 있다. 그러나 방송통신중･고등학교의 학습 콘텐츠의 경우 일반 학교에서 운영하고 있는 보편적인 과목 중심으로 교과 콘텐츠를 개발 운영하고 있어, 선택과목 운영이 쉽지 않다. 온라인수업의 목적을 고려할 때 2015 교육과정에 제시된 다양한 선택과목 콘텐츠가 개발 보급되어야 하며, 더불어 다양한 공개교육자료(OERs)를 확보하여 학생들이 활용할 수 있도록 해야 한다.\n",
      "\n",
      "이 문단을 간단히 요약하고 해당 문서의 제목을 지어줘\n",
      "\n",
      "문단 요약: 현재의 온라인 수업은 방송통신용 학습 콘텐츠를 그대로 활용하고 있어 일반학교 과목과는 차이가 있으며 이를 해소하기 위한 추가 개발및 공개교육자료 확보가 필요하다.\n",
      "\n",
      "교육일반 도서 제목 제안: \"교과선택권 확대를 위한 온라인수업 운영 현황 분석 및 개선 방향\"\n"
     ]
    }
   ],
   "source": [
    "# print(koalpaca_v1_0[0])\n",
    "print(koalpaca_v1_1[0])\n",
    "print(kochatgpt[0])\n",
    "print(korquad[0])\n",
    "print(oig[0])\n",
    "# print(sharegpt[0])\n",
    "print(kullm[-11])\n",
    "print(book_summary[0][\"instruction\"])\n",
    "print()\n",
    "print(book_summary[0][\"output\"])"
   ]
  },
  {
   "cell_type": "code",
   "execution_count": 8,
   "metadata": {},
   "outputs": [
    {
     "name": "stdout",
     "output_type": "stream",
     "text": [
      "Unifying except for Korquad dataset\n"
     ]
    },
    {
     "name": "stderr",
     "output_type": "stream",
     "text": [
      "100%|██████████| 21155/21155 [00:00<00:00, 55434.35it/s]\n",
      "100%|██████████| 12000/12000 [00:00<00:00, 101044.44it/s]\n",
      "100%|██████████| 210282/210282 [00:02<00:00, 85205.72it/s]\n",
      "100%|██████████| 152630/152630 [00:03<00:00, 44433.42it/s]"
     ]
    },
    {
     "name": "stdout",
     "output_type": "stream",
     "text": [
      "137583\n"
     ]
    },
    {
     "name": "stderr",
     "output_type": "stream",
     "text": [
      "\n"
     ]
    },
    {
     "data": {
      "text/plain": [
       "381020"
      ]
     },
     "execution_count": 8,
     "metadata": {},
     "output_type": "execute_result"
    }
   ],
   "source": [
    "import re\n",
    "from tqdm import tqdm\n",
    "\n",
    "def to_dialog(data, inst_key, out_key, preprossing=True):\n",
    "    dialog = []\n",
    "    for sample in tqdm(data, total=len(data)):\n",
    "        if preprossing:\n",
    "            inst = re.sub(r\"\\?(\\w)\", r\"?\\n\\1\", sample[inst_key])\n",
    "            output = re.sub(r\"[.](\\d+)[.]\", r\".\\n\\1.\", sample[out_key])\n",
    "        \n",
    "        dialog.append(\n",
    "            [{\"from\": \"human\", \"value\": inst},\n",
    "             {\"from\": \"bot\", \"value\": output}]\n",
    "        )\n",
    "    \n",
    "    return dialog\n",
    "        \n",
    "\n",
    "print(\"Unifying except for Korquad dataset\")\n",
    "unified_data = []\n",
    "\n",
    "# koalpacav1.1\n",
    "unified_data.extend(to_dialog(koalpaca_v1_1, \"instruction\", \"output\", \"general\"))\n",
    "# kochatgpt\n",
    "unified_data.extend(to_dialog(kochatgpt, \"prompt\", \"completion\", \"general\"))\n",
    "# OIG\n",
    "unified_data.extend(to_dialog(oig, \"user_translated\", \"chip2_translated\", \"general\"))\n",
    "# Book summary\n",
    "unified_data.extend(to_dialog(book_summary, \"instruction\", \"output\", False))\n",
    "    \n",
    "# KULLM-v2\n",
    "processed_kullm = []\n",
    "for sample in tqdm(kullm, total=len(kullm)):\n",
    "    if sample[\"input\"]:\n",
    "        inst = sample[\"instruction\"].strip()+\"\\n\\n\"+sample[\"input\"].strip()\n",
    "    else:\n",
    "        inst = sample[\"instruction\"].strip()\n",
    "        \n",
    "    if len(inst) <= 15:\n",
    "        continue\n",
    "    \n",
    "    output = re.sub(r\"[.](\\d+)[.]\", r\".\\n\\1.\", sample[\"output\"])\n",
    "        \n",
    "    processed_kullm.append(\n",
    "        [{\"from\": \"human\", \"value\": inst},\n",
    "         {\"from\": \"bot\", \"value\": output}]\n",
    "    )\n",
    "print(len(processed_kullm))\n",
    "unified_data.extend(processed_kullm)\n",
    "\n",
    "# unified_data.extend(koalpaca_v1_0)\n",
    "    \n",
    "len(unified_data)"
   ]
  },
  {
   "attachments": {},
   "cell_type": "markdown",
   "metadata": {},
   "source": [
    "### Processing Korquard dataset"
   ]
  },
  {
   "cell_type": "code",
   "execution_count": 9,
   "metadata": {},
   "outputs": [
    {
     "data": {
      "text/plain": [
       "390248"
      ]
     },
     "execution_count": 9,
     "metadata": {},
     "output_type": "execute_result"
    }
   ],
   "source": [
    "for sample in korquad:#, total=len(korquad)):\n",
    "    try:\n",
    "        turns = sample[\"text\"].split(\"\\n\")\n",
    "        context = turns[0].split(\">\")[1].strip()\n",
    "        dialog = []\n",
    "        for turn in turns[1:]:\n",
    "            splited = turn.split(\">\")\n",
    "            role = splited[0][1:]\n",
    "            text = splited[1].strip()\n",
    "            dialog.append({\"role\": role, \"text\": text})\n",
    "            \n",
    "        assert dialog[0][\"role\"]==\"usr\" and len(dialog)%2==0\n",
    "        \n",
    "        inst_res = []\n",
    "        for i in range(0, len(dialog), 2):\n",
    "            user = dialog[i][\"text\"]\n",
    "            if i==0:\n",
    "                user = context.strip()+\"\\n\\n\"+user.strip()\n",
    "            bot = dialog[i+1][\"text\"]\n",
    "        \n",
    "            inst_res.extend(\n",
    "                [{\"from\": \"human\", \"value\": user},\n",
    "                 {\"from\": \"bot\", \"value\": bot}]\n",
    "            )\n",
    "        \n",
    "        unified_data.append(inst_res)\n",
    "    except:\n",
    "        pass\n",
    "    \n",
    "len(unified_data)"
   ]
  },
  {
   "attachments": {},
   "cell_type": "markdown",
   "metadata": {},
   "source": [
    "### AI hub 주제별 일상 대화 데이터"
   ]
  },
  {
   "cell_type": "code",
   "execution_count": 2,
   "metadata": {},
   "outputs": [
    {
     "name": "stdout",
     "output_type": "stream",
     "text": [
      "../data/AIhub_chitchat/KAKAO_1648_13.json\n"
     ]
    },
    {
     "data": {
      "text/plain": [
       "98651"
      ]
     },
     "execution_count": 2,
     "metadata": {},
     "output_type": "execute_result"
    }
   ],
   "source": [
    "from glob import glob\n",
    "import json\n",
    "\n",
    "chitchat_list = glob(\"../data/AIhub_chitchat/*.json\")\n",
    "chitchat_data = []\n",
    "\n",
    "for path in chitchat_list:\n",
    "    try:\n",
    "        with open(path, \"r\") as fin:\n",
    "            chitchat_data.append(json.load(fin))\n",
    "    except Exception:\n",
    "        print(path)\n",
    "        continue\n",
    "\n",
    "len(chitchat_data)"
   ]
  },
  {
   "cell_type": "code",
   "execution_count": 3,
   "metadata": {},
   "outputs": [
    {
     "name": "stdout",
     "output_type": "stream",
     "text": [
      "[{'id': 1, 'text': '1 : 요즘은 몸 안 아프나?', 'norm_text': '요즘은 몸 안 아프나?', 'speaker': {'id': '1번', 'sex': '여성', 'age': '40대'}, 'speechAct': '(지시) 질문하기', 'morpheme': '요즘/NNG+은/JX+몸/NNG+안/MAG+아프/VA+나/EF'}, {'id': 2, 'text': '2 : 응응 좀낫다 아픈건...', 'norm_text': '응응 좀낫다 아픈건...', 'speaker': {'id': '2번', 'sex': '여성', 'age': '40대'}, 'speechAct': '(단언) 진술하기', 'morpheme': '응/IC+응/IC+좀/MAG+낫/VA+다아/EC+픈/VX+ETM+건/NNB+JX+./SY'}, {'id': 3, 'text': '1 : 요즘도 잠 못 자?', 'norm_text': '요즘도 잠 못 자?', 'speaker': {'id': '1번', 'sex': '여성', 'age': '40대'}, 'speechAct': '(지시) 질문하기', 'morpheme': '요즘/NNG+도/JX+잠/NNG+못자/NNG'}, {'id': 4, 'text': '2 : 그래도 좀 낫다', 'norm_text': '그래도 좀 낫다', 'speaker': {'id': '2번', 'sex': '여성', 'age': '40대'}, 'speechAct': '(단언) 진술하기', 'morpheme': '그래도/MAJ+좀/MAG+낫/VA+다/EC'}, {'id': 5, 'text': '1 : 몇시에 잠드는데? 몸이 허약하면 잠이 안와ㅜ', 'norm_text': '몇시에 잠드는데? 몸이 허약하면 잠이 안와ㅜ', 'speaker': {'id': '1번', 'sex': '여성', 'age': '40대'}, 'speechAct': '(단언) 주장하기', 'morpheme': '몇/MM+시/NNBC+에/JKB+잠드/VV+는데/EC+?/SY+몸이허약하면잠이안와ㅜ/UNKNOWN'}, {'id': 6, 'text': '2 : 허약하면 잠이안오나?', 'norm_text': '허약하면 잠이안오나?', 'speaker': {'id': '2번', 'sex': '여성', 'age': '40대'}, 'speechAct': '(지시) 질문하기', 'morpheme': '허약/NNG+하/XSV+면/EC+잠/NNG+이/JKS+안/MAG+오/VV+나/EF'}, {'id': 7, 'text': '1 : 잠도 건강해야온다', 'norm_text': '잠도 건강해야온다', 'speaker': {'id': '1번', 'sex': '여성', 'age': '40대'}, 'speechAct': '(단언) 주장하기', 'morpheme': '잠/NNG+도/JX+건강/NNG+해야/XSV+EC+온다/VX+EC'}, {'id': 8, 'text': '2 : 12시쯤누우면... 2시쯤 자는거같아', 'norm_text': '12시쯤누우면... 2시쯤 자는거같아', 'speaker': {'id': '2번', 'sex': '여성', 'age': '40대'}, 'speechAct': '(단언) 진술하기', 'morpheme': '12/SN+시/NNBC+쯤/XSN+누우/VV+면/EC+./SY+./SY+2/SN+시/NNBC+쯤/XSN+자/VV+는/ETM+거/NNB+같/VA+아/EC'}, {'id': 9, 'text': '1 : 그래도 그정도면 괜찮네~', 'norm_text': '그래도 그정도면 괜찮네~', 'speaker': {'id': '1번', 'sex': '여성', 'age': '40대'}, 'speechAct': '(단언) 주장하기', 'morpheme': '그래도/MAJ+그/MM+정도/NNG+면/VCP+EC+괜찮/VA+네/EF+~/SY'}, {'id': 10, 'text': '2 : 이틀전부터 그런상태', 'norm_text': '이틀전부터 그런상태', 'speaker': {'id': '2번', 'sex': '여성', 'age': '40대'}, 'speechAct': '(단언) 진술하기', 'morpheme': '이틀/NNG+전/NNG+부터/JX+그런/MM+상태/NNG'}, {'id': 11, 'text': '1 : 암튼 몸도 마음도 다 잘 될거라는 긍정적인 마음이 일이 잘 풀림', 'norm_text': '암튼 몸도 마음도 다 잘 될거라는 긍정적인 마음이 일이 잘 풀림', 'speaker': {'id': '1번', 'sex': '여성', 'age': '40대'}, 'speechAct': '(단언) 주장하기', 'morpheme': '암튼/MAJ+몸/NNG+도/JX+마음/NNG+도/JX+다/MAG+잘/MAG+될/VV+ETM+거/NNB+라는/VCP+ETM+긍정/NNG+적/XSN+인/VCP+ETM+마음/NNG+이/JKS+일/NNG+이/JKS+잘/MAG+풀림/NNG'}, {'id': 12, 'text': '2 : 응응 부정적이면...건강이 안좋아지는게 느껴진다', 'norm_text': '응응 부정적이면...건강이 안좋아지는게 느껴진다', 'speaker': {'id': '2번', 'sex': '여성', 'age': '40대'}, 'speechAct': '(단언) 주장하기', 'morpheme': '응/IC+응/IC+부정/NNG+적/XSN+이/VCP+면/EC+./SY+./SY+건강/NNG+이/JKS+안/MAG+좋/VA+아/EC+지/VX+는/ETM+게/NNB+JKS+느껴진다/VV+EC+VX+EC'}, {'id': 13, 'text': '1 : 신체적 건강도 정신적 건강과 같이 가는것 같다', 'norm_text': '신체적 건강도 정신적 건강과 같이 가는것 같다', 'speaker': {'id': '1번', 'sex': '여성', 'age': '40대'}, 'speechAct': '(단언) 주장하기', 'morpheme': '신체/NNG+적/XSN+건강/NNG+도/JX+정신/NNG+적/XSN+건강/NNG+과/JKB+같이/MAG+가/VV+는/ETM+것/NNB+같/VA+다/EC'}, {'id': 14, 'text': '2 : 나이가 들수록 건강이 가장중요하게 느껴지네', 'norm_text': '나이가 들수록 건강이 가장중요하게 느껴지네', 'speaker': {'id': '2번', 'sex': '여성', 'age': '40대'}, 'speechAct': '(단언) 주장하기', 'morpheme': '나이/NNG+가/JKS+들/VV+수록/EC+건강/NNG+이/JKS+가장/MAG+중요/NNG+하/XSV+게/EC+느껴/VV+EC+지네/NNG'}, {'id': 15, 'text': '1 : 맞다 건강이 최고지', 'norm_text': '맞다 건강이 최고지', 'speaker': {'id': '1번', 'sex': '여성', 'age': '40대'}, 'speechAct': '(단언) 주장하기', 'morpheme': '맞/VV+다/EC+건강/NNG+이/JKS+최고/NNG+지/VCP+EC'}, {'id': 16, 'text': '2 : 언니는 영양제 챙겨먹는거있어?', 'norm_text': '언니는 영양제 챙겨먹는거있어?', 'speaker': {'id': '2번', 'sex': '여성', 'age': '40대'}, 'speechAct': '(지시) 질문하기', 'morpheme': '언니/NNG+는/JX+영양제/NNG+챙겨/VV+EC+먹/VV+는/ETM+거/NNB+있/VA+어/EF'}, {'id': 17, 'text': '1 : 아니 귀찮아서 안 먹어ㅜ', 'norm_text': '아니 귀찮아서 안 먹어ㅜ', 'speaker': {'id': '1번', 'sex': '여성', 'age': '40대'}, 'speechAct': '(단언) 주장하기', 'morpheme': '아니/IC+귀찮/VA+아서/EC+안/MAG+먹/VV+어/EC+ㅜ/UNKNOWN'}]\n",
      "0\n"
     ]
    },
    {
     "ename": "NameError",
     "evalue": "name 'unified_data' is not defined",
     "output_type": "error",
     "traceback": [
      "\u001b[0;31m---------------------------------------------------------------------------\u001b[0m",
      "\u001b[0;31mNameError\u001b[0m                                 Traceback (most recent call last)",
      "\u001b[0;32m/tmp/ipykernel_1838521/570025954.py\u001b[0m in \u001b[0;36m<module>\u001b[0;34m\u001b[0m\n\u001b[1;32m     55\u001b[0m \u001b[0mprint\u001b[0m\u001b[0;34m(\u001b[0m\u001b[0mlen\u001b[0m\u001b[0;34m(\u001b[0m\u001b[0mdialogs\u001b[0m\u001b[0;34m)\u001b[0m\u001b[0;34m)\u001b[0m\u001b[0;34m\u001b[0m\u001b[0;34m\u001b[0m\u001b[0m\n\u001b[1;32m     56\u001b[0m \u001b[0;34m\u001b[0m\u001b[0m\n\u001b[0;32m---> 57\u001b[0;31m \u001b[0munified_data\u001b[0m\u001b[0;34m.\u001b[0m\u001b[0mextend\u001b[0m\u001b[0;34m(\u001b[0m\u001b[0mdialogs\u001b[0m\u001b[0;34m)\u001b[0m\u001b[0;34m\u001b[0m\u001b[0;34m\u001b[0m\u001b[0m\n\u001b[0m",
      "\u001b[0;31mNameError\u001b[0m: name 'unified_data' is not defined"
     ]
    }
   ],
   "source": [
    "from tqdm import tqdm\n",
    "import re\n",
    "\n",
    "dialogs = []\n",
    "for data in chitchat_data:\n",
    "    data = data[\"info\"][0]\n",
    "    domain = data[\"annotations\"][\"speaker_type\"]\n",
    "    if data[\"annotations\"][\"speaker_type\"]!=\"1:1\":\n",
    "        continue\n",
    "    \n",
    "    data = data[\"annotations\"]\n",
    "    lines = data[\"lines\"]\n",
    "    \n",
    "    if len(lines) < 2 or not data[\"lines\"][0][\"norm_text\"]:\n",
    "        continue\n",
    "    \n",
    "    if len(set([line[\"speaker\"][\"id\"] for line in lines]))!=2:\n",
    "        continue\n",
    "       \n",
    "    user_info = lines[0][\"speaker\"]\n",
    "    u_id = user_info[\"id\"]\n",
    "    u_gender = user_info[\"sex\"]\n",
    "    u_age = user_info[\"age\"]\n",
    "    \n",
    "    prev_id = u_id\n",
    "    dialog = []\n",
    "    user = []\n",
    "    bot = []\n",
    "    for i in range(len(lines)):\n",
    "        cur_id = lines[i][\"speaker\"][\"id\"]\n",
    "        if prev_id!=cur_id and prev_id!=u_id:\n",
    "            response = \" \".join(bot).strip()\n",
    "            response = re.sub(\"키키\", \"ㅋㅋ\", response)\n",
    "            dialog.extend(\n",
    "                [{\"from\": \"human\", \"value\": \" \".join(user).strip()},\n",
    "                 {\"persona\": {\"age\": a_age, \"gender\": a_gender, \"domain\": \"일상 대화\"}, \"from\": \"bot\", \"value\": response}]\n",
    "            )\n",
    "            user = []\n",
    "            bot = []\n",
    "\n",
    "        if cur_id!=u_id:\n",
    "            a_gender = lines[i][\"speaker\"][\"sex\"]\n",
    "            a_age = lines[i][\"speaker\"][\"age\"]\n",
    "            bot.append(lines[i][\"norm_text\"])\n",
    "        else:\n",
    "            user.append(lines[i][\"norm_text\"])\n",
    "            \n",
    "        prev_id = cur_id\n",
    "    \n",
    "    if dialog:\n",
    "        dialogs.append(dialog.copy())\n",
    "    \n",
    "print(len(dialogs))\n",
    "\n",
    "unified_data.extend(dialogs)"
   ]
  },
  {
   "cell_type": "code",
   "execution_count": 12,
   "metadata": {},
   "outputs": [],
   "source": [
    "from tqdm import tqdm\n",
    "import torch\n",
    "import transformers\n",
    "from transformers import (\n",
    "    MODEL_FOR_CAUSAL_LM_MAPPING,\n",
    "    Trainer,\n",
    "    set_seed,\n",
    "    AutoConfig,\n",
    "    CONFIG_MAPPING\n",
    ")\n",
    "\n",
    "import sys\n",
    "sys.path.append(\"../\")\n",
    "\n",
    "from model_utils.conversation import get_conv_template, SeparatorStyle\n",
    "from typing import Optional, Dict, Sequence\n",
    "\n",
    "IGNORE_INDEX = -100\n",
    "\n",
    "def preprocess(\n",
    "    sources,\n",
    "    tokenizer: transformers.PreTrainedTokenizer,\n",
    ") -> Dict:\n",
    "    conv_g = get_conv_template(\"elementgpt_for_general\")\n",
    "    conv_p = get_conv_template(\"elementgpt_for_persona\")\n",
    "    roles = {\"human\": conv_g.roles[0], \"bot\": conv_g.roles[1]}\n",
    "\n",
    "    # Apply prompt templates\n",
    "    conversations = []\n",
    "    for i, source in enumerate(sources):\n",
    "        print(source)\n",
    "        if \"persona\" in source[1]:\n",
    "            conv = conv_p.copy()\n",
    "            conv.system = conv.system.format_map(source[1][\"persona\"])\n",
    "        else:\n",
    "            conv = conv_g\n",
    "            \n",
    "        if roles[source[0][\"from\"]] != conv.roles[0]:\n",
    "            # Skip the first one if it is not from human\n",
    "            source = source[1:]\n",
    "\n",
    "        conv.messages = []\n",
    "        for j, sentence in enumerate(source):\n",
    "            role = roles[sentence[\"from\"]]\n",
    "            assert role == conv.roles[j % 2], f\"{i}\"\n",
    "            conv.append_message(role, sentence[\"value\"])\n",
    "        conversations.append(conv.get_prompt())\n",
    "        \n",
    "    return conversations\n",
    "    \n",
    "    # Tokenize conversations\n",
    "    input_ids = []\n",
    "    targets = []\n",
    "    for i, conversation in enumerate(tqdm(conversations, desc=\"Tokenizing inputs\")):\n",
    "        input_ids_sample = tokenizer(\n",
    "            conversation,\n",
    "            return_tensors=\"pt\",\n",
    "            padding=\"longest\",\n",
    "            max_length=tokenizer.model_max_length,\n",
    "            truncation=True,\n",
    "        ).input_ids[0]\n",
    "        \n",
    "        input_ids.append(input_ids_sample)\n",
    "        targets.append(input_ids_sample.clone())\n",
    "\n",
    "    assert conv.sep_style == SeparatorStyle.ADD_COLON_TWO\n",
    "\n",
    "    print(\"Masking targets...\")\n",
    "    # Mask targets\n",
    "    sep = conv.sep + conv.roles[1] + \": \"\n",
    "    for conversation, target in tqdm(zip(conversations, targets), total=len(conversations)):\n",
    "        total_len = int(target.ne(tokenizer.pad_token_id).sum()) + 1\n",
    "\n",
    "        rounds = conversation.split(conv.sep2)\n",
    "        cur_len = 1\n",
    "        target[:cur_len] = IGNORE_INDEX\n",
    "        for i, rou in enumerate(rounds):\n",
    "            if rou == \"\":\n",
    "                break\n",
    "\n",
    "            parts = rou.split(sep)\n",
    "            if len(parts) != 2:\n",
    "                break\n",
    "            parts[0] += sep\n",
    "            round_len = len(tokenizer(rou).input_ids)\n",
    "            instruction_len = len(tokenizer(parts[0]).input_ids) - 2\n",
    "\n",
    "            target[cur_len : cur_len + instruction_len] = IGNORE_INDEX\n",
    "\n",
    "            cur_len += round_len\n",
    "        target[cur_len:] = IGNORE_INDEX\n",
    "\n",
    "        if False:\n",
    "            z = target.clone()\n",
    "            z = torch.where(z == IGNORE_TOKEN_ID, tokenizer.unk_token_id, z)\n",
    "            rank0_print(tokenizer.decode(z))\n",
    "\n",
    "        if cur_len < tokenizer.model_max_length:\n",
    "            if cur_len != total_len:\n",
    "                target[:] = IGNORE_INDEX\n",
    "                print(\n",
    "                    f\"WARNING: tokenization mismatch: {cur_len} vs. {total_len}.\"\n",
    "                    f\" (ignored)\"\n",
    "                )\n",
    "                print(len(rounds), conversation)\n",
    "\n",
    "    return dict(\n",
    "        input_ids=input_ids,\n",
    "        labels=targets,\n",
    "    )\n"
   ]
  },
  {
   "cell_type": "code",
   "execution_count": 13,
   "metadata": {},
   "outputs": [
    {
     "name": "stdout",
     "output_type": "stream",
     "text": [
      "[{'from': 'human', 'value': '일본 대마도에서 절도범들이 훔쳐 들어온 금동불상 얘기 들었어?'}, {'persona': {'age': '30대', 'gender': '여성', 'domain': '일상 대화'}, 'from': 'bot', 'value': '일본 어디서 가져왔는데?'}, {'from': 'human', 'value': '가져온 게 아니고, 훔쳤는데... 관음사에서.'}, {'persona': {'age': '30대', 'gender': '여성', 'domain': '일상 대화'}, 'from': 'bot', 'value': '훔쳤다면 돌려줘야겠네.'}, {'from': 'human', 'value': '근데 그게 진품이라서... 부석사에서 불상에 대한 소유권을 주장하고...'}, {'persona': {'age': '30대', 'gender': '여성', 'domain': '일상 대화'}, 'from': 'bot', 'value': '우리나라에서는 그래도 일본에 돌려줘야할텐데'}, {'from': 'human', 'value': '그래서 부석사가 정부 상대로 민사소소을 제기했다네...'}, {'persona': {'age': '30대', 'gender': '여성', 'domain': '일상 대화'}, 'from': 'bot', 'value': '음... 일본이 훔쳐갔던거라면 다시 돌려받아야지'}, {'from': 'human', 'value': '정식으로 돌려받았다면 좋았을텐데... 이게 다시 훔친 거라서... ;'}, {'persona': {'age': '30대', 'gender': '여성', 'domain': '일상 대화'}, 'from': 'bot', 'value': '아무튼 잘 해결되었음 좋겠다.'}]\n"
     ]
    }
   ],
   "source": [
    "tokenizer = transformers.AutoTokenizer.from_pretrained(\n",
    "    \"EleutherAI/polyglot-ko-5.8b\",\n",
    "    cache_dir=None,\n",
    "    model_max_length=1024,\n",
    "    padding_side=\"right\",\n",
    "    use_fast=False,\n",
    ")\n",
    "\n",
    "processed = preprocess(dialogs[15:16], tokenizer)"
   ]
  },
  {
   "cell_type": "code",
   "execution_count": 1,
   "metadata": {},
   "outputs": [
    {
     "ename": "NameError",
     "evalue": "name 'processed' is not defined",
     "output_type": "error",
     "traceback": [
      "\u001b[0;31m---------------------------------------------------------------------------\u001b[0m",
      "\u001b[0;31mNameError\u001b[0m                                 Traceback (most recent call last)",
      "\u001b[0;32m/tmp/ipykernel_1838521/570109192.py\u001b[0m in \u001b[0;36m<module>\u001b[0;34m\u001b[0m\n\u001b[0;32m----> 1\u001b[0;31m \u001b[0mprocessed\u001b[0m\u001b[0;34m[\u001b[0m\u001b[0;36m1\u001b[0m\u001b[0;34m]\u001b[0m\u001b[0;34m\u001b[0m\u001b[0;34m\u001b[0m\u001b[0m\n\u001b[0m",
      "\u001b[0;31mNameError\u001b[0m: name 'processed' is not defined"
     ]
    }
   ],
   "source": [
    "processed[1]"
   ]
  },
  {
   "cell_type": "code",
   "execution_count": 15,
   "metadata": {},
   "outputs": [],
   "source": [
    "import json\n",
    "\n",
    "with open(\"../data/unified_instruction.json\", \"w\", encoding=\"utf-8\") as f:\n",
    "    json.dump(unified_data, f, ensure_ascii=False) # ensure_ascii로 한글이 깨지지 않게 저장"
   ]
  },
  {
   "cell_type": "code",
   "execution_count": 17,
   "metadata": {},
   "outputs": [
    {
     "data": {
      "text/plain": [
       "460861"
      ]
     },
     "execution_count": 17,
     "metadata": {},
     "output_type": "execute_result"
    }
   ],
   "source": [
    "len(unified_data)"
   ]
  },
  {
   "cell_type": "code",
   "execution_count": null,
   "metadata": {},
   "outputs": [],
   "source": []
  }
 ],
 "metadata": {
  "kernelspec": {
   "display_name": "base",
   "language": "python",
   "name": "python3"
  },
  "language_info": {
   "codemirror_mode": {
    "name": "ipython",
    "version": 3
   },
   "file_extension": ".py",
   "mimetype": "text/x-python",
   "name": "python",
   "nbconvert_exporter": "python",
   "pygments_lexer": "ipython3",
   "version": "3.8.16"
  },
  "orig_nbformat": 4
 },
 "nbformat": 4,
 "nbformat_minor": 2
}
