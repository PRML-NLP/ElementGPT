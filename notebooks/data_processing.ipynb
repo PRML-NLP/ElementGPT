{
 "cells": [
  {
   "cell_type": "code",
   "execution_count": 1,
   "metadata": {},
   "outputs": [],
   "source": [
    "import os, json\n",
    "import jsonlines\n",
    "\n",
    "DATA_DIR = \"../data\"\n",
    "data_list = [\n",
    "    \"KoAlpaca/KoAlpaca_v1.1.jsonl\",\n",
    "    \"KoChatGPT/kochatgpt_1_SFT.jsonl\",\n",
    "    \"korquad-chat-v1/korquad-chat.json\",\n",
    "    \"OIG-small-chip2-ko/oig-smallchip2-dedu.jsonl\",\n",
    "    \"ShareGPT_DeepL/ko_alpaca_style_dataset.json\",\n",
    "    \"kullm_v2/kullm-v2.jsonl\",\n",
    "    \"KoAlpaca/ko_alpaca_data.json\"]"
   ]
  },
  {
   "cell_type": "code",
   "execution_count": 2,
   "metadata": {},
   "outputs": [
    {
     "name": "stdout",
     "output_type": "stream",
     "text": [
      "Downloading and preparing dataset None/None to /root/.cache/huggingface/datasets/kyujinpy___parquet/kyujinpy--KOpen-platypus-62cb0e3eebf44b4b/0.0.0/2a3b91fbd88a2c90d1dbbb32b460cf621d31bd5b05b934492fdef7d8d6f236ec...\n"
     ]
    },
    {
     "data": {
      "application/vnd.jupyter.widget-view+json": {
       "model_id": "528de03a685145c1bf1b855b41e48ef7",
       "version_major": 2,
       "version_minor": 0
      },
      "text/plain": [
       "Downloading data files:   0%|          | 0/1 [00:00<?, ?it/s]"
      ]
     },
     "metadata": {},
     "output_type": "display_data"
    },
    {
     "data": {
      "application/vnd.jupyter.widget-view+json": {
       "model_id": "aa07667898b04b16b0e2f53dcdbc5fab",
       "version_major": 2,
       "version_minor": 0
      },
      "text/plain": [
       "Downloading data:   0%|          | 0.00/16.7M [00:00<?, ?B/s]"
      ]
     },
     "metadata": {},
     "output_type": "display_data"
    },
    {
     "data": {
      "application/vnd.jupyter.widget-view+json": {
       "model_id": "1ccc00c3be3247e489ef625dee6bfd6f",
       "version_major": 2,
       "version_minor": 0
      },
      "text/plain": [
       "Extracting data files:   0%|          | 0/1 [00:00<?, ?it/s]"
      ]
     },
     "metadata": {},
     "output_type": "display_data"
    },
    {
     "data": {
      "application/vnd.jupyter.widget-view+json": {
       "model_id": "041ee7dcc0a94b068ab4bc63306f74dc",
       "version_major": 2,
       "version_minor": 0
      },
      "text/plain": [
       "Generating train split:   0%|          | 0/24926 [00:00<?, ? examples/s]"
      ]
     },
     "metadata": {},
     "output_type": "display_data"
    },
    {
     "name": "stdout",
     "output_type": "stream",
     "text": [
      "Dataset parquet downloaded and prepared to /root/.cache/huggingface/datasets/kyujinpy___parquet/kyujinpy--KOpen-platypus-62cb0e3eebf44b4b/0.0.0/2a3b91fbd88a2c90d1dbbb32b460cf621d31bd5b05b934492fdef7d8d6f236ec. Subsequent calls will reuse this data.\n"
     ]
    },
    {
     "data": {
      "application/vnd.jupyter.widget-view+json": {
       "model_id": "11bedeecbeee493297fa3cc1635414b3",
       "version_major": 2,
       "version_minor": 0
      },
      "text/plain": [
       "  0%|          | 0/1 [00:00<?, ?it/s]"
      ]
     },
     "metadata": {},
     "output_type": "display_data"
    },
    {
     "name": "stderr",
     "output_type": "stream",
     "text": [
      "No config specified, defaulting to: ko-lima/plain\n",
      "Found cached dataset ko-lima (/root/.cache/huggingface/datasets/taeshahn___ko-lima/plain/1.0.0/dcae294ced838f0ead098a7936aeb3cf3a899649d6167c2219755aed4fbf8d10)\n"
     ]
    },
    {
     "data": {
      "application/vnd.jupyter.widget-view+json": {
       "model_id": "92fd9f8c979d40948db8aefd0b50d6eb",
       "version_major": 2,
       "version_minor": 0
      },
      "text/plain": [
       "  0%|          | 0/2 [00:00<?, ?it/s]"
      ]
     },
     "metadata": {},
     "output_type": "display_data"
    },
    {
     "name": "stderr",
     "output_type": "stream",
     "text": [
      "Found cached dataset json (/root/.cache/huggingface/datasets/ziozzang___json/ziozzang--EverythingLM-data-V2-Ko-8090253fcfb7eb38/0.0.0/0f7e3662623656454fcd2b650f34e886a7db4b9104504885bd462096cc7a9f51)\n"
     ]
    },
    {
     "data": {
      "application/vnd.jupyter.widget-view+json": {
       "model_id": "f76310d4b9b94a90b4a089d963a068b5",
       "version_major": 2,
       "version_minor": 0
      },
      "text/plain": [
       "  0%|          | 0/1 [00:00<?, ?it/s]"
      ]
     },
     "metadata": {},
     "output_type": "display_data"
    }
   ],
   "source": [
    "from datasets import load_dataset\n",
    "\n",
    "platypus = load_dataset(\"kyujinpy/KOpen-platypus\")\n",
    "# kocot = load_dataset(\"kyujinpy/KoCoT_2000\")\n",
    "ko_lima = load_dataset(\"taeshahn/ko-lima\")\n",
    "everylm = load_dataset(\"ziozzang/EverythingLM-data-V2-Ko\")"
   ]
  },
  {
   "attachments": {},
   "cell_type": "markdown",
   "metadata": {},
   "source": [
    "### KoAlpaca v1.1 dataset"
   ]
  },
  {
   "cell_type": "code",
   "execution_count": 3,
   "metadata": {},
   "outputs": [
    {
     "data": {
      "text/plain": [
       "21155"
      ]
     },
     "execution_count": 3,
     "metadata": {},
     "output_type": "execute_result"
    }
   ],
   "source": [
    "data_path = data_list[0]\n",
    "\n",
    "koalpaca_v1_1 = []\n",
    "with jsonlines.open(os.path.join(DATA_DIR, data_path), \"r\") as f:\n",
    "    for line in f.iter():\n",
    "        koalpaca_v1_1.append(line)\n",
    "\n",
    "len(koalpaca_v1_1)"
   ]
  },
  {
   "attachments": {},
   "cell_type": "markdown",
   "metadata": {},
   "source": [
    "### KochatGPT SFT dataset"
   ]
  },
  {
   "cell_type": "code",
   "execution_count": 3,
   "metadata": {},
   "outputs": [
    {
     "data": {
      "text/plain": [
       "12000"
      ]
     },
     "execution_count": 3,
     "metadata": {},
     "output_type": "execute_result"
    }
   ],
   "source": [
    "data_path = data_list[1]\n",
    "with open(os.path.join(DATA_DIR, data_path), \"r\") as f:\n",
    "    kochatgpt = json.load(f)\n",
    "\n",
    "len(kochatgpt)"
   ]
  },
  {
   "attachments": {},
   "cell_type": "markdown",
   "metadata": {},
   "source": [
    "### Korquad dataset"
   ]
  },
  {
   "cell_type": "code",
   "execution_count": 4,
   "metadata": {},
   "outputs": [
    {
     "data": {
      "text/plain": [
       "9619"
      ]
     },
     "execution_count": 4,
     "metadata": {},
     "output_type": "execute_result"
    }
   ],
   "source": [
    "data_path = data_list[2]\n",
    "\n",
    "korquad = []\n",
    "with jsonlines.open(os.path.join(DATA_DIR, data_path), \"r\") as f:\n",
    "    for line in f.iter():\n",
    "        korquad.append(line)\n",
    "\n",
    "len(korquad)"
   ]
  },
  {
   "attachments": {},
   "cell_type": "markdown",
   "metadata": {},
   "source": [
    "### OIG dataset"
   ]
  },
  {
   "cell_type": "code",
   "execution_count": 17,
   "metadata": {},
   "outputs": [
    {
     "data": {
      "text/plain": [
       "210282"
      ]
     },
     "execution_count": 17,
     "metadata": {},
     "output_type": "execute_result"
    }
   ],
   "source": [
    "data_path = data_list[3]\n",
    "\n",
    "oig = []\n",
    "with jsonlines.open(os.path.join(DATA_DIR, data_path), \"r\") as f:\n",
    "    for line in f.iter():\n",
    "        oig.append(line)\n",
    "\n",
    "len(oig)"
   ]
  },
  {
   "attachments": {},
   "cell_type": "markdown",
   "metadata": {},
   "source": [
    "### KULLM-v2 dataset"
   ]
  },
  {
   "cell_type": "code",
   "execution_count": 5,
   "metadata": {},
   "outputs": [
    {
     "data": {
      "text/plain": [
       "152627"
      ]
     },
     "execution_count": 5,
     "metadata": {},
     "output_type": "execute_result"
    }
   ],
   "source": [
    "data_path = data_list[5]\n",
    "\n",
    "kullm = []\n",
    "with jsonlines.open(os.path.join(DATA_DIR, data_path), \"r\") as f:\n",
    "    for line in f.iter():\n",
    "        kullm.append(line)\n",
    "\n",
    "len(kullm)"
   ]
  },
  {
   "attachments": {},
   "cell_type": "markdown",
   "metadata": {},
   "source": [
    "### Processing Korquard dataset"
   ]
  },
  {
   "cell_type": "code",
   "execution_count": 5,
   "metadata": {},
   "outputs": [
    {
     "data": {
      "text/plain": [
       "9257"
      ]
     },
     "execution_count": 5,
     "metadata": {},
     "output_type": "execute_result"
    }
   ],
   "source": [
    "convQA = []\n",
    "L = len(\"<sys>\")\n",
    "for sample in korquad:#, total=len(korquad)):\n",
    "    try:\n",
    "        turns = sample[\"text\"].split(\"\\n\")\n",
    "        context = turns[0][L:].strip()\n",
    "        dialog = []\n",
    "        for turn in turns[1:]:\n",
    "            role = turn[1:L-1]\n",
    "            text = turn[L:].strip()\n",
    "            dialog.append({\"role\": role, \"text\": text})\n",
    "            \n",
    "        assert dialog[0][\"role\"]==\"usr\" and len(dialog)%2==0\n",
    "        \n",
    "        inst_res = []\n",
    "        for i in range(0, len(dialog), 2):\n",
    "            user = dialog[i][\"text\"]\n",
    "            if i==0:\n",
    "                user = context.strip()+\"\\n\\n\"+user.strip()\n",
    "            bot = dialog[i+1][\"text\"]\n",
    "        \n",
    "            inst_res.extend(\n",
    "                [{\"from\": \"human\", \"value\": user.replace(\"<|bot|>\", \"어시스턴트\")},\n",
    "                 {\"from\": \"bot\", \"value\": bot.replace(\"<|user|>\", \"유저님\"),}]\n",
    "            )\n",
    "        inst_res[1][\"domain\"] = \"general\"\n",
    "                \n",
    "        convQA.append(inst_res)\n",
    "    except:\n",
    "        pass\n",
    "\n",
    "len(convQA)"
   ]
  },
  {
   "attachments": {},
   "cell_type": "markdown",
   "metadata": {},
   "source": [
    "### 6-th Science"
   ]
  },
  {
   "cell_type": "code",
   "execution_count": 6,
   "metadata": {},
   "outputs": [
    {
     "name": "stdout",
     "output_type": "stream",
     "text": [
      "{'instruction': '꽃의 구조와 기능은 무엇일까요?', 'output': '꽃은 꽃받침, 꽃잎, 수술, 암술로 이루어져 있습니다. 꽃의 구조는 이 네 부분으로 구성되어 있습니다.'}\n",
      "{'instruction': '6학년 과학 볼록 렌즈에 대한 서술형 문제 2개 만들어줘', 'output': '문제 1: 볼록 렌즈를 이용한 간이 프로젝터는 어떻게 만들까요?\\n답변: 스마트 기기와 볼록 렌즈를 사용하여 스마트 기기의 영상을 스크린에 비추어 보는 간이 프로젝터를 만들 수 있습니다.\\n\\n문제 2: 볼록 렌즈를 이용한 간이 프로젝터 실험에서 스마트 기기의 영상은 어떻게 스크린에 보이나요?\\n답변: 스마트 기기의 영상은 스크린에 뒤집혀서 보입니다.'}\n"
     ]
    }
   ],
   "source": [
    "import random\n",
    "from collections import Counter\n",
    "\n",
    "with open(\"../data/science_edu/6th_grade_QA_science_filtered.json\", \"r\") as fin:\n",
    "    six_sci_qa = json.load(fin)\n",
    "\n",
    "keywords = []\n",
    "for sample in six_sci_qa:\n",
    "    keywords.append(sample[\"keywords\"].split(\",\")[0])\n",
    "\n",
    "most_keywords = Counter(keywords).most_common(20)\n",
    "\n",
    "sci_six_res = []\n",
    "key_qa_map = {}\n",
    "for sample in six_sci_qa:\n",
    "    get_qa = True\n",
    "    for keyword, _ in most_keywords:\n",
    "        if keyword in sample[\"keywords\"]:\n",
    "            if keyword not in key_qa_map:\n",
    "                key_qa_map[keyword] = [sample]\n",
    "            else:\n",
    "                key_qa_map[keyword].append(sample)\n",
    "            get_qa = False\n",
    "            break\n",
    "    if get_qa:\n",
    "        inst = f\"{sample['question']}\"\n",
    "        res = sample['answer']\n",
    "        sci_six_res.append({\"instruction\": inst, \"output\": res})\n",
    "            \n",
    "\n",
    "inst_form = \"6학년 과학 {}에 대한 서술형 문제 {}개 만들어줘\"\n",
    "\n",
    "sci_six_gen = []\n",
    "for key, qas in key_qa_map.items():\n",
    "    index = 0\n",
    "    while len(qas) > index:      \n",
    "        problems = []\n",
    "        cur_len = 0\n",
    "        choice = random.randint(1,3)\n",
    "        for k, s in enumerate(qas[index:index+choice]):\n",
    "            Q, A = s[\"question\"], s[\"answer\"]\n",
    "            problem = f\"문제 {k+1}: {Q}\\n답변: {A}\"\n",
    "            cur_len += len(problem)\n",
    "            problems.append(problem)\n",
    "            if cur_len > 500:\n",
    "                choice = k+1\n",
    "                break\n",
    "        \n",
    "        inst = inst_form.format(key, choice)\n",
    "        index += choice\n",
    "        sci_six_gen.append({\"instruction\": inst, \"output\": \"\\n\\n\".join(problems)})\n",
    "\n",
    "print(sci_six_res[0])\n",
    "print(sci_six_gen[0])"
   ]
  },
  {
   "attachments": {},
   "cell_type": "markdown",
   "metadata": {},
   "source": [
    "### GSM8K_ko"
   ]
  },
  {
   "cell_type": "code",
   "execution_count": 7,
   "metadata": {},
   "outputs": [
    {
     "name": "stdout",
     "output_type": "stream",
     "text": [
      "865 5913\n"
     ]
    }
   ],
   "source": [
    "import random, re\n",
    "\n",
    "with open(\"../data/gsm8k/gsm8k_ko_main.json\", \"r\") as fin:\n",
    "    gsm8k = json.load(fin)\n",
    "\n",
    "num_problem_gen = int(len(gsm8k) * 0.2)\n",
    "random.shuffle(gsm8k)\n",
    "gen_samples = gsm8k[:num_problem_gen]\n",
    "gsm8k = gsm8k[num_problem_gen:]\n",
    "insts = [\"사칙연산을 연습할 수 있도록 다단계 추론이 필요한 단답형 수학 문제 {}개 작성해줘.\",\n",
    "         \"사칙연산을 연습하고자 하는데, 다단계 추론을 필요로 하는 단답형 수학 문제를 {}개 만들어주세요.\",\n",
    "         \"다단계 추론이 필요한 사칙연산 연습용 단답형 수학 문제를 {}문제 작성 부탁드립니다.\",\n",
    "         \"단답형 수학 문제 {}개를 만들어주세요. 이 문제들은 사칙연산을 연습하면서 다단계 추론을 요구합니다.\"]\n",
    "gsm8k_gen = []\n",
    "index = 0\n",
    "while num_problem_gen > index:\n",
    "    choice = random.randint(1,3)\n",
    "    cur_len = 0\n",
    "    problems = []\n",
    "    for k, s in enumerate(gen_samples[index:index+choice]):\n",
    "        Q, A = s[\"question\"], s[\"answer\"]\n",
    "        A = re.sub(r\"\\\\equ{([0-9-+*/=.]+)}\", r\"\\1\", A)\n",
    "        A = A.replace(\" -> \", \"\\n\")\n",
    "        problem = f\"문제{k+1}: {Q}\\n해설: {A}\"\n",
    "        cur_len += len(problem)\n",
    "        problems.append(problem)\n",
    "        if cur_len > 500:\n",
    "            choice = k+1\n",
    "            break\n",
    "    \n",
    "    inst = random.choice(insts)\n",
    "    inst = inst.format(choice)\n",
    "    index += choice\n",
    "    gsm8k_gen.append({\"instruction\": inst, \"output\": \"\\n\\n\".join(problems)})\n",
    "\n",
    "gsm8k_solve = []\n",
    "for sample in gsm8k:\n",
    "    gsm8k_solve.append({\n",
    "        \"instruction\": sample[\"question\"],\n",
    "        \"output\": sample[\"answer\"]\n",
    "    })\n",
    "        \n",
    "print(len(gsm8k_gen), len(gsm8k_solve))"
   ]
  },
  {
   "cell_type": "code",
   "execution_count": 8,
   "metadata": {},
   "outputs": [
    {
     "name": "stdout",
     "output_type": "stream",
     "text": [
      "7374\n"
     ]
    }
   ],
   "source": [
    "import random\n",
    "\n",
    "with open(\"../data/gsm8k/gsm8k_ko_socratic.json\", \"r\") as fin:\n",
    "    gsm8k = json.load(fin)\n",
    "\n",
    "prompt = [\"소크라테스식 문답으로 풀어줘.\", \"다단계 추론을 거쳐 정답을 추론해줘.\"]\n",
    "\n",
    "gsm8k_socra = []\n",
    "for sample in gsm8k:\n",
    "    Q, A = s[\"question\"], s[\"answer\"]\n",
    "    A = re.sub(r\"\\\\equ{([0-9-+*/=.]+)}\", r\"\\1\", A)\n",
    "    A = A.replace(\" -> \", \"\\n\")\n",
    "    gsm8k_socra.append({\n",
    "        \"instruction\": Q+random.choice(prompt),\n",
    "        \"output\": sample[\"answer\"]\n",
    "    })\n",
    "        \n",
    "print(len(gsm8k_socra))"
   ]
  },
  {
   "attachments": {},
   "cell_type": "markdown",
   "metadata": {},
   "source": [
    "### AI Hub Book summarization"
   ]
  },
  {
   "cell_type": "code",
   "execution_count": 9,
   "metadata": {},
   "outputs": [],
   "source": [
    "import os, json\n",
    "from glob import glob\n",
    "from tqdm import tqdm\n",
    "\n",
    "json_files = glob(\"../data/AIhub_book_summary/*.json\")\n",
    "\n",
    "cand_prompts = [\n",
    "    \"이 문단을 한 문장에서 세 문장 정도로 간단히 요약해줘.\",\n",
    "    \"이 문단을 한 문장에서 세 문장으로 간략하게 요약해 주세요.\",\n",
    "    \"위 글을 간략하게 핵심 요약해줘.\",\n",
    "    \"이 글을 한 문장에서 세 문장으로 간단하게 요약해주세요.\"\n",
    "]\n",
    "\n",
    "ins1_format = \"{passage}\\n\\n이 문단을 한 문장에서 세 문장 정도로 간단히 요약해줘.\"\n",
    "res1_format = \"{summary}\"\n",
    "ins2_format = \"이 문단이 포함될 문서의 제목을 지어줘.\"\n",
    "res2_format = \"제목: {doc_name}\"\n",
    "\n",
    "target_kdc = [\"보건의료\", \"체육\", \"보육·가족및여성\", \"한국문학\", \"한국어\", \"문학\", \"문화재\", \"역사\", \"음악\", \"심리학\"]\n",
    "book_summary = []\n",
    "kdcs = []\n",
    "pretrained_data = []\n",
    "for path in (json_files):\n",
    "    with open(path, \"r\") as f:\n",
    "        json_data = json.load(f)\n",
    "    data = json_data[\"metadata\"]\n",
    "    kdcs.append(data[\"kdc_label\"])\n",
    "        \n",
    "    if \"교육\" in data[\"kdc_label\"] or data[\"kdc_label\"] in target_kdc:\n",
    "        pretrained_data.append(f\"{data['kdc_label']} {data['doc_type']} \\'{data['doc_name']}\\'에서 발췌:\\n\\n\"+json_data[\"passage\"])\n",
    "        data[\"passage\"] = json_data[\"passage\"].strip()\n",
    "        data[\"summary\"] = json_data[\"summary\"].strip()\n",
    "        prompt = random.choice(cand_prompts)\n",
    "        ins1_format = \"{passage}\\n\\n\"+prompt\n",
    "        ins1 = ins1_format.format_map(data)\n",
    "        res1 = res1_format.format_map(data)\n",
    "        ins2 = ins2_format.format_map(data)\n",
    "        res2 = res2_format.format_map(data)\n",
    "        \n",
    "        book_summary.append([\n",
    "            {\"from\":\"human\", \"value\":ins1},\n",
    "            {\"from\":\"bot\", \"value\":res1, \"domain\":\"general\"},\n",
    "            {\"from\":\"human\", \"value\":ins2},\n",
    "            {\"from\":\"bot\", \"value\":res2},\n",
    "        ])"
   ]
  },
  {
   "cell_type": "code",
   "execution_count": 10,
   "metadata": {},
   "outputs": [
    {
     "data": {
      "text/plain": [
       "32523"
      ]
     },
     "execution_count": 10,
     "metadata": {},
     "output_type": "execute_result"
    }
   ],
   "source": [
    "len(book_summary)"
   ]
  },
  {
   "cell_type": "code",
   "execution_count": 10,
   "metadata": {},
   "outputs": [
    {
     "name": "stdout",
     "output_type": "stream",
     "text": [
      "{'instruction': '양파는 어떤 식물 부위인가요? 그리고 고구마는 뿌리인가요?', 'output': '양파는 잎이 아닌 식물의 줄기 부분입니다. 고구마는 식물의 뿌리 부분입니다. \\n\\n식물의 부위의 구분에 대해 궁금해하는 분이라면 분명 이 질문에 대한 답을 찾고 있을 것입니다. 양파는 잎이 아닌 줄기 부분입니다. 고구마는 다른 질문과 답변에서 언급된 것과 같이 뿌리 부분입니다. 따라서, 양파는 식물의 줄기 부분이 되고, 고구마는 식물의 뿌리 부분입니다.\\n\\n 덧붙이는 답변: 고구마 줄기도 볶아먹을 수 있나요? \\n\\n고구마 줄기도 식용으로 볶아먹을 수 있습니다. 하지만 줄기 뿐만 아니라, 잎, 씨, 뿌리까지 모든 부위가 식용으로 활용되기도 합니다. 다만, 한국에서는 일반적으로 뿌리 부분인 고구마를 주로 먹습니다.', 'url': 'https://kin.naver.com/qna/detail.naver?d1id=11&dirId=1116&docId=55320268'}\n",
      "[{'from': 'human', 'value': '1839년 바그너는 괴테의 파우스트을 처음 읽고 그 내용에 마음이 끌려 이를 소재로 해서 하나의 교향곡을 쓰려는 뜻을 갖는다. 이 시기 바그너는 1838년에 빛 독촉으로 산전수전을 다 걲은 상황이라 좌절과 실망에 가득했으며 메피스토펠레스를 만나는 파우스트의 심경에 공감했다고 한다. 또한 파리에서 아브네크의 지휘로 파리 음악원 관현악단이 연주하는 베토벤의 교향곡 9번을 듣고 깊은 감명을 받았는데, 이것이 이듬해 1월에 파우스트의 서곡으로 쓰여진 이 작품에 조금이라도 영향을 끼쳤으리라는 것은 의심할 여지가 없다. 여기의 라단조 조성의 경우에도 그의 전기에 적혀 있는 것처럼 단순한 정신적 피로나 실의가 반영된 것이 아니라 베토벤의 합창교향곡 조성의 영향을 받은 것을 볼 수 있다. 그렇게 교향곡 작곡을 1839년부터 40년에 걸쳐 파리에서 착수했으나 1악장을 쓴 뒤에 중단했다. 또한 작품의 완성과 동시에 그는 이 서곡(1악장)을 파리 음악원의 연주회에서 연주할 파트보까지 준비하였으나, 실제로는 이루어지지는 않았다. 결국 초연은 4년 반이 지난 후에 드레스덴에서 연주되었고 재연도 이루어졌지만, 이후에 그대로 방치되고 말았다. 그 사이에 그는 리엔치와 방황하는 네덜란드인을 완성하고 탄호이저에도 착수하는 등 분주한 시간을 보냈는데, 그런 바쁜 생활이 이 곡을 잊게 한 것이 아닌가 하는 의견도 있다.\\n\\n바그너가 1839년에 파우스트를 소재로 한 교향곡 작곡을 시작했다는데, 왜 이 소재에 마음이 끌렸을까요?'}, {'from': 'bot', 'value': '바그너는 파우스트의 메피스토펠레스를 만나는 파우스트의 심경에 공감했기 때문입니다. 또한 바그너는 파리에서 베토벤의 교향곡 9번을 듣고 깊은 감명을 받았고, 이것이 이 작품에 조금 영향을 끼쳤다고 합니다.', 'domain': 'general'}, {'from': 'human', 'value': '작곡을 시작한 이후 작업은 어떻게 진행됐나요?'}, {'from': 'bot', 'value': '작곡을 시작한 1839년부터 40년에 걸쳐 파리에서 작업을 시작했지만, 1악장을 쓴 뒤 중단하게 됐습니다. 그리고 이 간 동안 리엔치와 방황하는 네덜란드인을 완성하고 탄호이저에도 착수하는 등 바쁜 시간을 보냈는데 이런 바쁜 생활이 이 곡을 잊게 한 것이 아닐까 추측되고 있습니다.'}, {'from': 'human', 'value': '그렇다면 이 작품이 연주되지 않은 이유는 무엇인가요?'}, {'from': 'bot', 'value': '작품의 완성과 동시에 그는 이 서곡(1악장)을 파리 음악원의 연주회에서 연주할 파트보까지 준비하였지만, 실제로는 이루어지지 않았습니다. 결국 초연은 4년 반이 지난 후에 드레스덴에서 연주되었고, 재연도 이루어졌지만, 이후에는 그대로 방치되고 말았습니다.'}]\n"
     ]
    }
   ],
   "source": [
    "# print(koalpaca_v1_0[0])\n",
    "print(koalpaca_v1_1[0])\n",
    "# print(kochatgpt[0])\n",
    "print(convQA[0])\n",
    "# print(oig[0])\n",
    "# print(sharegpt[0])\n",
    "# print(kullm[-11])"
   ]
  },
  {
   "cell_type": "code",
   "execution_count": 11,
   "metadata": {},
   "outputs": [
    {
     "name": "stdout",
     "output_type": "stream",
     "text": [
      "30412\n",
      "32523\n",
      "5913\n",
      "852\n",
      "778\n"
     ]
    }
   ],
   "source": [
    "print(len(convQA)+len(koalpaca_v1_1))\n",
    "print(len(book_summary)) # 1000\n",
    "print(len(gsm8k_solve))\n",
    "print(len(gsm8k_gen))\n",
    "# print(len(gsm8k_socra))\n",
    "# print(len(sci_six_gen))\n",
    "print(len(sci_six_res))"
   ]
  },
  {
   "cell_type": "code",
   "execution_count": 6,
   "metadata": {},
   "outputs": [],
   "source": [
    "import re, json\n",
    "from tqdm import tqdm\n",
    "import random\n",
    "\n",
    "matching_number = {\n",
    "    \"①\": \"(1)\",\n",
    "    \"②\": \"(2)\",\n",
    "    \"③\": \"(3)\",\n",
    "    \"④\": \"(4)\",\n",
    "    \"⑤\": \"(5)\"\n",
    "}\n",
    "\n",
    "def to_dialog(data, inst_key, out_key, domain, inp_key=\"input\", preprossing=True):\n",
    "    dialog = []\n",
    "    for sample in tqdm(data, total=len(data)):\n",
    "        if preprossing:\n",
    "            inst = re.sub(r\"\\?(\\w)\", r\"?\\n\\1\", sample[inst_key])\n",
    "            output = re.sub(r\"[.](\\d+)[.]\", r\".\\n\\1.\", sample[out_key])\n",
    "        else:\n",
    "            inst = sample[inst_key]\n",
    "            output = sample[out_key]\n",
    "            \n",
    "        if inp_key in sample and sample[inp_key]:\n",
    "            inst = sample[inp_key].strip()+\"\\n\\n\"+inst\n",
    "            \n",
    "        if domain!=\"education\" and (\"OpenAI\" in output or \"코드\" in inst or re.match(r\"[가-힣]\", output) is None):\n",
    "            continue\n",
    "        \n",
    "        if domain==\"education\":\n",
    "            for k, v in matching_number.items():\n",
    "                inst = inst.replace(k, v)\n",
    "                output = output.replace(k, v)\n",
    "                output = re.sub(r\"[ ]+\\n\", \"\\n\", output)\n",
    "    \n",
    "        dialog.append(\n",
    "            [{\"from\": \"human\", \"value\": inst},\n",
    "             {\"from\": \"bot\", \"value\": output, \"domain\":domain}]\n",
    "        )\n",
    "    print(f\"Get {len(dialog)} dialogs\")\n",
    "    return dialog"
   ]
  },
  {
   "cell_type": "markdown",
   "metadata": {},
   "source": [
    "### Platypus"
   ]
  },
  {
   "cell_type": "code",
   "execution_count": 14,
   "metadata": {},
   "outputs": [
    {
     "name": "stderr",
     "output_type": "stream",
     "text": [
      "100%|██████████| 21155/21155 [00:00<00:00, 73438.30it/s]\n"
     ]
    },
    {
     "name": "stdout",
     "output_type": "stream",
     "text": [
      "Get 18483 dialogs\n"
     ]
    },
    {
     "name": "stderr",
     "output_type": "stream",
     "text": [
      "100%|██████████| 14/14 [00:00<00:00, 12868.78it/s]"
     ]
    },
    {
     "name": "stdout",
     "output_type": "stream",
     "text": [
      "Get 14 dialogs\n",
      "27754\n"
     ]
    },
    {
     "name": "stderr",
     "output_type": "stream",
     "text": [
      "\n"
     ]
    }
   ],
   "source": [
    "# print(\"Unifying except for Korquad dataset\")\n",
    "unified_data = []\n",
    "# # koalpacav1.1\n",
    "unified_data.extend(to_dialog(koalpaca_v1_1, \"instruction\", \"output\", \"general\"))\n",
    "# Korquad\n",
    "unified_data.extend(convQA)\n",
    "\n",
    "# Book summary\n",
    "# _book_summary = random.sample(book_summary, 3000)\n",
    "# unified_data.extend(_book_summary)\n",
    "\n",
    "with open(\"../data/extra_edu_data.json\", \"r\", encoding=\"utf-8\") as f:\n",
    "    extra = json.load(f)\n",
    "unified_data.extend(to_dialog(extra, \"instruction\", \"output\", \"education\"))\n",
    "\n",
    "print(len(unified_data))\n",
    "\n",
    "# artificial_data = []\n",
    "# GSM8K\n",
    "# artificial_data.extend(to_dialog(gsm8k_solve, \"instruction\", \"output\", \"general\"))\n",
    "# artificial_data.extend(to_dialog(gsm8k_gen, \"instruction\", \"output\", \"general\"))\n",
    "# artificial_data.extend(to_dialog(gsm8k_socra, \"instruction\", \"output\", \"general\"))\n",
    "# Sci 6 grade\n",
    "# artificial_data.extend(to_dialog(sci_six_gen, \"instruction\", \"output\", \"general\"))\n",
    "# artificial_data.extend(to_dialog(sci_six_res, \"instruction\", \"output\", \"general\"))\n",
    "# artificial_data = random.sample(artificial_data, len(unified_data))\n",
    "\n",
    "# unified_data.extend(artificial_data)\n",
    "\n",
    "# Dialog\n",
    "with open(\"../data/web_crawled/naver2dialog.json\", \"r\") as f:\n",
    "    conv_data = json.load(f)\n",
    "    \n",
    "unified_data.extend(conv_data)\n",
    "\n",
    "# kochatgpt\n",
    "# unified_data.extend(to_dialog(kochatgpt, \"prompt\", \"completion\", \"general\"))\n",
    "# OIG\n",
    "# unified_data.extend(to_dialog(oig, \"user_translated\", \"chip2_translated\", \"general\"))"
   ]
  },
  {
   "cell_type": "code",
   "execution_count": 15,
   "metadata": {},
   "outputs": [
    {
     "data": {
      "text/plain": [
       "29644"
      ]
     },
     "execution_count": 15,
     "metadata": {},
     "output_type": "execute_result"
    }
   ],
   "source": [
    "len(unified_data)"
   ]
  },
  {
   "cell_type": "code",
   "execution_count": 16,
   "metadata": {},
   "outputs": [
    {
     "name": "stderr",
     "output_type": "stream",
     "text": [
      "  0%|          | 0/24926 [00:00<?, ?it/s]"
     ]
    },
    {
     "name": "stderr",
     "output_type": "stream",
     "text": [
      "100%|██████████| 24926/24926 [00:01<00:00, 16531.92it/s]\n"
     ]
    },
    {
     "name": "stdout",
     "output_type": "stream",
     "text": [
      "Get 12306 dialogs\n"
     ]
    },
    {
     "name": "stderr",
     "output_type": "stream",
     "text": [
      "100%|██████████| 991/991 [00:00<00:00, 16501.40it/s]\n"
     ]
    },
    {
     "name": "stdout",
     "output_type": "stream",
     "text": [
      "Get 774 dialogs\n"
     ]
    },
    {
     "name": "stderr",
     "output_type": "stream",
     "text": [
      "100%|██████████| 1030/1030 [00:00<00:00, 18343.58it/s]"
     ]
    },
    {
     "name": "stdout",
     "output_type": "stream",
     "text": [
      "list index out of range\n",
      "14110\n"
     ]
    },
    {
     "name": "stderr",
     "output_type": "stream",
     "text": [
      "\n"
     ]
    }
   ],
   "source": [
    "# KULLM-v2\n",
    "# processed_kullm = []\n",
    "# for sample in tqdm(kullm, total=len(kullm)):\n",
    "#     if sample[\"input\"]:\n",
    "#         inst = sample[\"input\"].strip()+\"\\n\\n\"+sample[\"instruction\"].strip()\n",
    "#     else:\n",
    "#         inst = sample[\"instruction\"].strip()\n",
    "        \n",
    "#     if len(inst) <= 15:\n",
    "#         continue\n",
    "    \n",
    "#     output = re.sub(r\"[.](\\d+)[.]\", r\".\\r\\n\\1.\", sample[\"output\"])\n",
    "#     if \"OpenAI\" in output or \"코드\" in inst or re.match(r\"[가-힣]\", output) is None:\n",
    "#         continue\n",
    "        \n",
    "#     processed_kullm.append(\n",
    "#         [{\"from\": \"human\", \"value\": inst}, \n",
    "#          {\"from\": \"bot\", \"value\": output, \"domain\": \"general\"}]\n",
    "#     )\n",
    "\n",
    "# unified_data.extend(random.sample(processed_kullm, 30000))\n",
    "\n",
    "general_data = []\n",
    "general_data.extend(to_dialog(platypus[\"train\"], \"instruction\", \"output\", domain=\"general\", preprossing=False))\n",
    "general_data.extend(to_dialog(everylm[\"train\"], \"instruction\", \"output\", domain=\"general\", preprossing=False))\n",
    "# general_data.extend(to_dialog(kocot[\"train\"], \"source\", \"rationale\", domain=\"general\", preprossing=False))\n",
    "\n",
    "kolima_processed = []\n",
    "for sample in tqdm(ko_lima[\"train\"], total=len(ko_lima[\"train\"])):\n",
    "    conv = sample[\"conversations\"]\n",
    "    \n",
    "    turns = []\n",
    "    for t in range(0, len(conv), 2):\n",
    "        try:\n",
    "            turns.extend(\n",
    "                [{\"from\": \"human\", \"value\": conv[t]}, \n",
    "                {\"from\": \"bot\", \"value\": conv[t+1]}]\n",
    "            )\n",
    "        except Exception as e:\n",
    "            print(e)\n",
    "            break\n",
    "        if t==0:\n",
    "            turns[1][\"domain\"] = \"general\"\n",
    "    \n",
    "    if turns:\n",
    "        kolima_processed.append(turns.copy())\n",
    "        \n",
    "general_data.extend(kolima_processed)\n",
    "\n",
    "print(len(general_data))"
   ]
  },
  {
   "cell_type": "code",
   "execution_count": 17,
   "metadata": {},
   "outputs": [
    {
     "data": {
      "text/plain": [
       "43754"
      ]
     },
     "execution_count": 17,
     "metadata": {},
     "output_type": "execute_result"
    }
   ],
   "source": [
    "unified_data.extend(general_data)\n",
    "len(unified_data)"
   ]
  },
  {
   "cell_type": "code",
   "execution_count": 14,
   "metadata": {},
   "outputs": [],
   "source": [
    "with open(\"../data/inst_data_wo_edu.json\", \"w\") as fout:\n",
    "    json.dump(unified_data, fout, ensure_ascii=False, indent=2)"
   ]
  },
  {
   "cell_type": "code",
   "execution_count": 18,
   "metadata": {},
   "outputs": [],
   "source": [
    "import random, os\n",
    "\n",
    "PB_DIR = \"../data/problem_bank\"\n",
    "\n",
    "## 객관식 문제\n",
    "with open(os.path.join(PB_DIR, \"context_5_choices.json\"), \"r\") as f:\n",
    "    non_pb_data = json.load(f)\n",
    "    \n",
    "pb_data = []\n",
    "\n",
    "for sample in non_pb_data:\n",
    "    problem, bogi, answer, explain = sample[\"response\"].split(\"\\n\")\n",
    "    bogi = re.sub(r\"([^①②③④⑤]),( )?([①②③④⑤])\", r\"\\1\\n\\3\", bogi)\n",
    "    sample[\"response\"] = f\"{problem}\\n{bogi}\\n{explain}\\n{answer}\"\n",
    "    sample[\"response\"] = sample[\"response\"].replace(\"보기: \", \"보기:\\n\")\n",
    "    pb_data.append(sample)\n",
    "\n",
    "choice_dir = f\"{PB_DIR}/5_choices\"\n",
    "essay_dir = f\"{PB_DIR}/essay\"\n",
    "short_ans_dir = f\"{PB_DIR}/short_answer\"\n",
    "choices5 = os.listdir(choice_dir)\n",
    "essay = os.listdir(essay_dir)\n",
    "short_ans = os.listdir(short_ans_dir)\n",
    "\n",
    "choice_data = []\n",
    "for filename in choices5:\n",
    "    with open(os.path.join(choice_dir, filename), \"r\") as f:\n",
    "        choice_data.extend(json.load(f))\n",
    "\n",
    "choices_multiple = {}\n",
    "for sample in choice_data:\n",
    "    if \"대분수\" in sample[\"Assistant\"] or \"가분수\" in sample[\"Assistant\"]:\n",
    "        continue\n",
    "    if sample[\"User\"] in choices_multiple and not sample[\"Assistant\"] in choices_multiple[sample[\"User\"]]:\n",
    "        choices_multiple[sample[\"User\"]].append(sample[\"Assistant\"])\n",
    "    else:\n",
    "        choices_multiple[sample[\"User\"]] = [sample[\"Assistant\"]]\n",
    "\n",
    "NUM_DICT = {\n",
    "    1: [\"하나\", \"한 문제\", \"한 개\", \"1개\", \"1 문항\"],\n",
    "    2: [\"둘\", \"두 문제\", \"두 개\", \"2개\", \"2 문항\"],\n",
    "    3: [\"셋\", \"세 문제\", \"세 개\", \"3개\", \"3 문항\"],\n",
    "    4: [\"넷\", \"네 문제\", \"네 개\", \"4개\", \"4 문항\"]\n",
    "}\n",
    "\n",
    "CHOICE_DICT = {\n",
    "    0: \"에 대한 오지선다 문제\",\n",
    "    1: \"에 대한 5지선택 문제\",\n",
    "    2: \" 주제로 5개 보기를 가진 객관식 문제\",\n",
    "    3: \"에 대해 보기 5개가 주어지는 객관식 문제\",\n",
    "    4: \" 단원에 대한 객관식 문항\"\n",
    "}\n",
    "\n",
    "choices_inst_data = []\n",
    "for inst, prbs in choices_multiple.items():\n",
    "    index = 0\n",
    "    while index < len(prbs):\n",
    "        num_prb = random.randint(1, 7)\n",
    "        num_prb = min(num_prb, len(prbs)-index)\n",
    "        if num_prb > 4:\n",
    "            num_prb = 1\n",
    "        num_txt = random.choice(NUM_DICT[num_prb])\n",
    "        changed_inst = inst.replace(\"하나 만들어줘.\", f\"{num_txt} 만들어줘.\" if random.randint(0,1) else f\"{num_txt} 제출해줘.\")\n",
    "        inst_rand = CHOICE_DICT[random.randint(0,4)]\n",
    "        changed_inst = changed_inst.replace(\" 5지선택문제\", inst_rand).replace(\"None학년 None학기 \", \"\")\n",
    "\n",
    "        gen_problem = prbs[index:index+num_prb]\n",
    "        refined_problem = []\n",
    "        idx = 1\n",
    "        for prob in gen_problem:\n",
    "            prob = prob.replace(\"문제:\", f\"문제{idx}:\")\n",
    "            splited = prob.split(\"\\n\")\n",
    "            if splited[1][:len(\"보기:\")]==\"보기:\":\n",
    "                splited[1] = re.sub(r\"([^①②③④⑤]),( )?([①②③④⑤])\", r\"\\1\\n\\3\", splited[1])\n",
    "                splited[1] = splited[1].replace(\"보기: \", \"보기:\\n\")\n",
    "                \n",
    "            correct = splited[-2]\n",
    "            if \"[해설]\" in correct:\n",
    "                cor_splited = correct.split(\"[해설]\")\n",
    "                correct = cor_splited[0]\n",
    "                if len(cor_splited[1]) > 3:\n",
    "                    solution = \"해설: \"+cor_splited[1]\n",
    "                else:\n",
    "                    solution = splited[-1]\n",
    "            else:\n",
    "                solution = splited[-1]\n",
    "            solution = solution.replace(\"]]\", \"\")\n",
    "            solution = solution.replace(\"해설: .\", \"해설: \")\n",
    "            if len(solution) < len(\"해설: \")+2:\n",
    "                continue\n",
    "            \n",
    "            problem = splited[:-2]\n",
    "            problem.extend([solution, correct])\n",
    "            refined_problem.append(\"\\n\".join(problem))\n",
    "            idx += 1\n",
    "\n",
    "        gen_problem = \"\\n\\n\".join(refined_problem)\n",
    "        gen_problem = re.sub(r\"([①②③④⑤])([가-힣0-9])\", r\"\\1 \\2\", gen_problem)\n",
    "        gen_problem = re.sub(r\"([가-힣0-9.,?!])([①②③④⑤])\", r\"\\1 \\2\", gen_problem)\n",
    "        gen_problem = re.sub(r\"[ ]{2,}\", r\" \", gen_problem)\n",
    "        gen_problem = re.sub(r\"([^\\s])따라서\", r\"\\1 따라서\", gen_problem)\n",
    "        gen_problem = re.sub(r\"([가-힣])[.]([가-힣])\", r\"\\1. \\2\", gen_problem)\n",
    "        gen_problem = re.sub(r\"([가-힣!.?])[\\s]?[·•-] ([가-힣])\", r\"\\1\\n- \\2\", gen_problem)\n",
    "        gen_problem = re.sub(r\"([^\\s])<보기>\", r\"\\1\\n<보기>\", gen_problem)\n",
    "        gen_problem = gen_problem.replace(\"曹曹曹曹曹曹曹曹\", \"A\")\n",
    "        gen_problem = gen_problem.replace(\"曹\", \"\")\n",
    "        \n",
    "        if not gen_problem:\n",
    "            index += num_prb\n",
    "            continue\n",
    "        \n",
    "        if num_prb==1 and random.randint(0,1):\n",
    "            splited = gen_problem.split(\"\\n\")\n",
    "            try:\n",
    "                solution = splited[-2]\n",
    "                correct = splited[-1]\n",
    "            except:\n",
    "                print(gen_problem)\n",
    "                print(splited)\n",
    "            output = f\"{solution}\\n{correct}\"\n",
    "            problem = \"\\n\".join(splited[:-2])\n",
    "            \n",
    "            if \"<보기>\" in problem and len(problem.split(\"<보기>\")) <= 2 and not \"<보기>\\nㄱ\" in problem:\n",
    "                output = \"주어져야 할 보기가 제공되지 않았습니다. 문제를 풀기 위해서는 더 많은 정보가 필요합니다. 적절한 정보를 제공해주세요.\"\n",
    "            elif (\"주어진\" in problem or \"빈 칸\" in problem or \"빈칸\" in problem) and not \"__\" in problem and not \"괄호\" in problem and not \"주어진 힘\" in problem and not \"영어로\" in problem:\n",
    "                output = \"주어져야 할 정보가 제공되지 않았습니다. 문제를 풀기 위해서는 더 많은 정보가 필요합니다. 적절한 정보를 제공해주세요.\"\n",
    "                \n",
    "            choices_inst_data.append({\"user\": problem.replace(\"문제1:\",\"문제:\"), \"response\": output})\n",
    "        else:\n",
    "            choices_inst_data.append({\"user\": changed_inst, \"response\": gen_problem})\n",
    "            \n",
    "        index += num_prb\n",
    "        \n",
    "## 에세이\n",
    "essay_data = []\n",
    "for filename in essay:\n",
    "    with open(os.path.join(essay_dir, filename), \"r\") as f:\n",
    "        essay_data.extend(json.load(f))\n",
    "        \n",
    "essay_multiple = {}\n",
    "for sample in essay_data:\n",
    "    if sample[\"Q\"] in essay_multiple and not sample[\"A\"] in essay_multiple[sample[\"Q\"]]:\n",
    "        essay_multiple[sample[\"Q\"]].append(sample[\"A\"])\n",
    "    else:\n",
    "        essay_multiple[sample[\"Q\"]] = [sample[\"A\"]]\n",
    "        \n",
    "essay_inst_data = []\n",
    "for inst, prbs in essay_multiple.items():\n",
    "    index = 0\n",
    "    while index < len(prbs):\n",
    "        num_prb = random.randint(1, 6)\n",
    "        num_prb = min(num_prb, len(prbs)-index)\n",
    "        if num_prb > 3:\n",
    "            num_prb = 1\n",
    "        num_txt = random.choice(NUM_DICT[num_prb])\n",
    "        changed_inst = inst.replace(\"하나 생성해줘\", f\"{num_txt} 만들어줘.\" if random.randint(0,1) else f\"{num_txt} 제출해줘.\")\n",
    "        changed_inst = changed_inst.replace(\", 논술형 문제\", \"에 관한 논술형 문제\").replace(\"None학년 None학기 \", \"\")\n",
    "\n",
    "        gen_problem = prbs[index:index+num_prb]\n",
    "        refined_problem = []\n",
    "        idx = 1\n",
    "        for prob in gen_problem:\n",
    "            prob = prob.replace(\"문제 :\", f\"문제{idx}:\")\n",
    "            correct, solution = prob.split(\", 해설 : \")\n",
    "            problem, correct = correct.split(\", 정답 : \")\n",
    "            \n",
    "            if not solution.strip():\n",
    "                continue\n",
    "            \n",
    "            if correct in solution or correct==\"풀이 참조\":\n",
    "                output = f\"정답 및 해설: {solution}\"\n",
    "            elif not solution:\n",
    "                output = f\"정답 및 해설: {correct}\"\n",
    "            else:\n",
    "                output = f\"해설: {solution}\\n정답: {correct}\"\n",
    "                \n",
    "            output = re.sub(r\"[ ]{2,}\", r\" \", output)\n",
    "            output = re.sub(r\"([0-9])([가-힣])\", r\"\\1 \\2\", output)\n",
    "            problem = re.sub(r\"([가-힣a-z])[.]([가-힣A-Z])\", r\"\\1. \\2\", problem)\n",
    "            problem = re.sub(r\"([^\\s])([ㄱㄴㄷㄹㅁㅂ])\", r\"\\1\\n\\2\", problem)\n",
    "            problem = re.sub(r\"[.]<보기>\", \".\\n<보기>\", problem)\n",
    "            output = re.sub(r\"([가-힣a-z])[.]([가-힣A-Z])\", r\"\\1. \\2\", output)\n",
    "            output = re.sub(r\"([가-힣!.?])[\\s]?[·•-] ([가-힣])\", r\"\\1\\n- \\2\", output)\n",
    "            \n",
    "            refined_problem.append((problem, output))\n",
    "            idx += 1\n",
    "            \n",
    "        if not refined_problem:\n",
    "            index += num_prb\n",
    "            continue\n",
    "        \n",
    "        if num_prb==1 and random.randint(0,1):\n",
    "            problem, output = refined_problem[0]\n",
    "            if \"<보기>\" in problem and len(problem.split(\"<보기>\")) <= 2 and not \"<보기>\\nㄱ\" in problem:\n",
    "                output = \"주어져야 할 보기가 제공되지 않았습니다. 문제를 풀기 위해서는 더 많은 정보가 필요합니다. 적절한 정보를 제공해주세요.\"\n",
    "            elif (\"주어진\" in problem or \"빈 칸\" in problem or \"빈칸\" in problem) and not \"__\" in problem and not \"괄호\" in problem and not \"주어진 힘\" in problem and not \"영어로\" in problem:\n",
    "                output = \"주어져야 할 정보가 제공되지 않았습니다. 문제를 풀기 위해서는 더 많은 정보가 필요합니다. 적절한 정보를 제공해주세요.\"\n",
    "            essay_inst_data.append({\"user\": problem.replace(\"문제1:\",\"문제:\"), \"response\": output})\n",
    "        else:\n",
    "            gen_problem = \"\\n\\n\".join([f\"{problem}\\n{output}\" for problem, output in refined_problem])\n",
    "            essay_inst_data.append({\"user\": changed_inst, \"response\": gen_problem})\n",
    "            \n",
    "        index += num_prb\n",
    "        \n",
    "        \n",
    "## 단답형\n",
    "short_ans_data = []\n",
    "for filename in short_ans:\n",
    "    with open(os.path.join(short_ans_dir, filename), \"r\") as f:\n",
    "        short_ans_data.extend(json.load(f))\n",
    "        \n",
    "short_ans_multiple = {}\n",
    "for sample in short_ans_data:\n",
    "    if sample[\"Q\"] in short_ans_multiple and not sample[\"A\"] in short_ans_multiple[sample[\"Q\"]]:\n",
    "        short_ans_multiple[sample[\"Q\"]].append(sample[\"A\"])\n",
    "    else:\n",
    "        short_ans_multiple[sample[\"Q\"]] = [sample[\"A\"]]\n",
    "        \n",
    "short_ans_inst_data = []\n",
    "for inst, prbs in short_ans_multiple.items():\n",
    "    if \"계산해 보세요.\" in inst:\n",
    "        continue\n",
    "    index = 0\n",
    "    while index < len(prbs):\n",
    "        num_prb = random.randint(1, 7)\n",
    "        num_prb = min(num_prb, len(prbs)-index)\n",
    "                \n",
    "        if num_prb > 4:\n",
    "            num_prb = 1\n",
    "            \n",
    "        if \"[Exam4u]과목\" in inst or \"[출제원리를 찾아서]\" in inst:\n",
    "            num_prob = 1\n",
    "            \n",
    "        num_txt = random.choice(NUM_DICT[num_prb])\n",
    "        changed_inst = inst.replace(\"하나 생성해줘.\", f\"{num_txt} 만들어줘.\" if random.randint(0,1) else f\"{num_txt} 제출해줘.\")\n",
    "        changed_inst = changed_inst.replace(\" 단답유순형\", \"에 관한 단답형\")\n",
    "        changed_inst = changed_inst.replace(\" 단답무순형\", \"에 관한 단답형\").replace(\"None학년 None학기 \", \"\")\n",
    "\n",
    "        gen_problem = prbs[index:index+num_prb]\n",
    "        refined_problem = []\n",
    "        idx = 1\n",
    "        for prob in gen_problem:\n",
    "            prob = prob.replace(\"문제 :\", f\"문제{idx}:\")\n",
    "            correct, solution = prob.split(\", 해설 : \")\n",
    "            problem, correct = correct.split(\", 정답 : \")\n",
    "            \n",
    "            if not solution.strip():\n",
    "                continue\n",
    "            \n",
    "            if correct in solution or correct==\"풀이 참조\":\n",
    "                output = f\"정답 및 해설: {solution}\"\n",
    "            elif not solution:\n",
    "                output = f\"정답 및 해설: {correct}\"\n",
    "            else:\n",
    "                output = f\"해설: {solution}\\n정답: {correct}\"\n",
    "                \n",
    "            output = re.sub(r\"[ ]{2,}\", r\" \", output)\n",
    "            output = re.sub(r\"([0-9])([가-힣])\", r\"\\1 \\2\", output)\n",
    "            problem = re.sub(r\"([가-힣a-z])[.]([가-힣A-Z])\", r\"\\1. \\2\", problem)\n",
    "            problem = re.sub(r\"([^\\s])([ㄱㄴㄷㄹㅁㅂ])\", r\"\\1\\n\\2\", problem)\n",
    "            problem = re.sub(r\"[.]( )?<보기>\", \".\\n<보기>\", problem)\n",
    "            output = re.sub(r\"([가-힣!.?])[\\s]?[·•-] ([가-힣])\", r\"\\1\\n- \\2\", output)\n",
    "            output = re.sub(r\"([가-힣a-z])[.]([가-힣A-Z])\", r\"\\1. \\2\", output)\n",
    "            \n",
    "            refined_problem.append((problem, output))\n",
    "            idx += 1\n",
    "            \n",
    "        if not refined_problem:\n",
    "            index += num_prb\n",
    "            continue\n",
    "        \n",
    "        if (num_prb==1 and random.randint(0,1)) or \"[Exam4u]과목\" in inst or \"[출제원리를 찾아서]\" in inst:\n",
    "            problem, output = refined_problem[0]\n",
    "            \n",
    "            if \"<보기>\" in problem and len(problem.split(\"<보기>\")) <= 2 and not \"<보기>\\nㄱ\" in problem:\n",
    "                output = \"주어져야 할 보기가 제공되지 않았습니다. 문제를 풀기 위해서는 더 많은 정보가 필요합니다. 적절한 정보를 제공해주세요.\"\n",
    "            elif (\"주어진\" in problem or \"빈 칸\" in problem or \"빈칸\" in problem or \"빈 곳\" in problem) and not \"__\" in problem and not \"괄호\" in problem and not \"주어진 힘\" in problem and not \"영어로\" in problem:\n",
    "                output = \"주어져야 할 정보가 제공되지 않았습니다. 문제를 풀기 위해서는 더 많은 정보가 필요합니다. 적절한 정보를 제공해주세요.\"\n",
    "                \n",
    "            short_ans_inst_data.append({\"user\": problem.replace(\"문제1:\",\"문제:\").strip(), \"response\": output.strip()})\n",
    "        else:\n",
    "            gen_problem = \"\\n\\n\".join([f\"{problem}\\n{output}\" for problem, output in refined_problem])\n",
    "            short_ans_inst_data.append({\"user\": changed_inst.strip(), \"response\": gen_problem.strip()})\n",
    "            \n",
    "        index += num_prb"
   ]
  },
  {
   "cell_type": "code",
   "execution_count": 19,
   "metadata": {},
   "outputs": [
    {
     "name": "stdout",
     "output_type": "stream",
     "text": [
      "9892\n",
      "14310\n"
     ]
    }
   ],
   "source": [
    "pb_data.extend(choices_inst_data)\n",
    "pb_data.extend(essay_inst_data)\n",
    "pb_data.extend(short_ans_inst_data)\n",
    "\n",
    "print(len(pb_data))\n",
    "\n",
    "with open(\"../data/processed_math_eng_data.json\", \"r\") as fin:\n",
    "    add_data = json.load(fin)\n",
    "    \n",
    "pb_data.extend(add_data)\n",
    "\n",
    "print(len(pb_data))\n",
    "\n",
    "with open(\"../data/pb_data.json\", \"w\") as fout:\n",
    "    json.dump(pb_data, fout, indent=2, ensure_ascii=False)"
   ]
  },
  {
   "cell_type": "code",
   "execution_count": 20,
   "metadata": {},
   "outputs": [
    {
     "name": "stderr",
     "output_type": "stream",
     "text": [
      "  0%|          | 0/14310 [00:00<?, ?it/s]"
     ]
    },
    {
     "name": "stderr",
     "output_type": "stream",
     "text": [
      "100%|██████████| 14310/14310 [00:00<00:00, 17144.30it/s]"
     ]
    },
    {
     "name": "stdout",
     "output_type": "stream",
     "text": [
      "Get 14310 dialogs\n"
     ]
    },
    {
     "name": "stderr",
     "output_type": "stream",
     "text": [
      "\n"
     ]
    },
    {
     "data": {
      "text/plain": [
       "58064"
      ]
     },
     "execution_count": 20,
     "metadata": {},
     "output_type": "execute_result"
    }
   ],
   "source": [
    "# pb_data = random.sample(pb_data, k=8192)\n",
    "# edu_data = []\n",
    "unified_data.extend(to_dialog(pb_data, \"user\", \"response\", \"education\"))\n",
    "len(unified_data)"
   ]
  },
  {
   "attachments": {},
   "cell_type": "markdown",
   "metadata": {},
   "source": [
    "### AI hub 주제별 일상 대화 데이터"
   ]
  },
  {
   "cell_type": "code",
   "execution_count": 24,
   "metadata": {},
   "outputs": [
    {
     "name": "stdout",
     "output_type": "stream",
     "text": [
      "../data/AIhub_chitchat/KAKAO_1648_13.json\n"
     ]
    },
    {
     "data": {
      "text/plain": [
       "98651"
      ]
     },
     "execution_count": 24,
     "metadata": {},
     "output_type": "execute_result"
    }
   ],
   "source": [
    "from glob import glob\n",
    "import json\n",
    "\n",
    "chitchat_list = glob(\"../data/AIhub_chitchat/*.json\")\n",
    "chitchat_data = []\n",
    "\n",
    "for path in chitchat_list:\n",
    "    try:\n",
    "        with open(path, \"r\") as fin:\n",
    "            chitchat_data.append(json.load(fin))\n",
    "    except Exception:\n",
    "        print(path)\n",
    "        continue\n",
    "\n",
    "len(chitchat_data)"
   ]
  },
  {
   "cell_type": "code",
   "execution_count": 25,
   "metadata": {},
   "outputs": [
    {
     "name": "stdout",
     "output_type": "stream",
     "text": [
      "70613\n"
     ]
    }
   ],
   "source": [
    "from tqdm import tqdm\n",
    "import re\n",
    "\n",
    "dialogs = []\n",
    "for data in chitchat_data:\n",
    "    data = data[\"info\"][0]\n",
    "    domain = data[\"annotations\"][\"speaker_type\"]\n",
    "    if data[\"annotations\"][\"speaker_type\"]!=\"1:1\":\n",
    "        continue\n",
    "    \n",
    "    data = data[\"annotations\"]\n",
    "    lines = data[\"lines\"]\n",
    "    \n",
    "    if len(lines) < 2 or not data[\"lines\"][0][\"norm_text\"]:\n",
    "        continue\n",
    "    \n",
    "    if len(set([line[\"speaker\"][\"id\"] for line in lines]))!=2:\n",
    "        continue\n",
    "       \n",
    "    user_info = lines[0][\"speaker\"]\n",
    "    u_id = user_info[\"id\"]\n",
    "    u_gender = user_info[\"sex\"]\n",
    "    u_age = user_info[\"age\"]\n",
    "    \n",
    "    prev_id = u_id\n",
    "    dialog = []\n",
    "    user = []\n",
    "    bot = []\n",
    "    for i in range(len(lines)):\n",
    "        cur_id = lines[i][\"speaker\"][\"id\"]\n",
    "        if prev_id!=cur_id and prev_id!=u_id:\n",
    "            response = \" \".join(bot).strip()\n",
    "            response = re.sub(\"키키\", \"ㅋㅋ\", response)\n",
    "            dialog.extend(\n",
    "                [{\"from\": \"human\", \"value\": \" \".join(user).strip()},\n",
    "                 {\"persona\": {\"age\": a_age, \"gender\": a_gender, \"domain\": \"일상 대화\"}, \"from\": \"bot\", \"value\": response}]\n",
    "            )\n",
    "            user = []\n",
    "            bot = []\n",
    "\n",
    "        if cur_id!=u_id:\n",
    "            a_gender = lines[i][\"speaker\"][\"sex\"]\n",
    "            a_age = lines[i][\"speaker\"][\"age\"]\n",
    "            bot.append(lines[i][\"norm_text\"])\n",
    "        else:\n",
    "            user.append(lines[i][\"norm_text\"])\n",
    "            \n",
    "        prev_id = cur_id\n",
    "    \n",
    "    if dialog:\n",
    "        dialogs.append(dialog.copy())\n",
    "    \n",
    "print(len(dialogs))\n",
    "\n",
    "unified_data.extend(dialogs)"
   ]
  },
  {
   "cell_type": "code",
   "execution_count": 20,
   "metadata": {},
   "outputs": [
    {
     "data": {
      "text/plain": [
       "79830"
      ]
     },
     "execution_count": 20,
     "metadata": {},
     "output_type": "execute_result"
    }
   ],
   "source": [
    "len(unified_data)"
   ]
  },
  {
   "cell_type": "code",
   "execution_count": 15,
   "metadata": {},
   "outputs": [
    {
     "name": "stdout",
     "output_type": "stream",
     "text": [
      "1890\n"
     ]
    },
    {
     "data": {
      "text/plain": [
       "1890"
      ]
     },
     "execution_count": 15,
     "metadata": {},
     "output_type": "execute_result"
    }
   ],
   "source": [
    "import json\n",
    "\n",
    "with open(\"../data/web_crawled/naver2dialog.json\", \"r\") as fin:\n",
    "    data = json.load(fin)\n",
    "    \n",
    "dialogs = []\n",
    "for dial in data:\n",
    "    check = True\n",
    "    for sample in dial:\n",
    "        if sample[\"from\"]==\"bot\" and \"?\" in sample[\"value\"]:\n",
    "            check = False\n",
    "            break\n",
    "    if check:\n",
    "        dialogs.append(dial)\n",
    "\n",
    "print(len(dialogs))\n",
    "len(data)"
   ]
  },
  {
   "cell_type": "code",
   "execution_count": 21,
   "metadata": {},
   "outputs": [],
   "source": [
    "import random\n",
    "\n",
    "with open(\"../data/unified_DAPT_data.json\", \"r\") as fin:\n",
    "    dapt = json.load(fin)\n",
    "\n",
    "formats = [\"{area}에 관련해서 {topic}을 주제로 수업자료를 만들어줘.\",\n",
    "           \"{area}, {topic}에 관련한 교육 자료를 개발해줘.\",\n",
    "           \"{area} 과목 내 {topic}를 주제로 다루는 교재를 만들어봐.\",\n",
    "           \"{topic} 관련 {area} 수업에서 사용할 자료를 제작해줘.\",\n",
    "           \"{area} 과목과 관련지어 {topic}를 포함한 강의 자료를 작성해줘.\",\n",
    "           \"{area}의 주제 '{topic}'로 구성한 강의 내용을 준비해줘.\",\n",
    "           \"{topic}를 주제로 한 {area} 관련 수업 자료를 만들어줘.\",\n",
    "           \"{topic}에 초점을 맞춘 {area} 교육용 자료를 써줘.\",\n",
    "           \"{area}에서의 {topic}에 대한 교육용 자료를 만들어주세요.\",\n",
    "           \"{topic} 내용을 담은 {area} 교육 자료를 구성해줘.\"]\n",
    "\n",
    "format_kor = \"{topic}에 대해 올바르게 알 수 있도록 교훈을 줄 수 있는 이야기나 사례를 작성해줘.\"\n",
    "format_per = \"{topic}의 생애와 업적 등을 소개하는 글을 써줘.\"\n",
    "format_e = \"'{topic}' 라는 주제로 어린이를 위한 흥미로운 수업 자료를 작성해줘.\"\n",
    "format_so = \"학생들을 위해 '{topic}' 라는 주제를 가지고 흥미롭게 설명하는 글을 작성해줘.\"\n",
    "\n",
    "pairs = []\n",
    "additional = []\n",
    "for sample in dapt:\n",
    "    area = sample.split(\" \")[0]\n",
    "    if area[-1]==\":\" and not area[:-1] in [\"예체능\", \"성장백과\"]:\n",
    "        try:\n",
    "            splited = sample.split(\"\\n\\n\")\n",
    "            area_topic = splited[0].split(\": \")\n",
    "            area = area_topic[0]\n",
    "            if len(area_topic) > 2:\n",
    "                topic = f\"{area_topic[1].strip()} - {area_topic[2].strip()}\"\n",
    "            else:\n",
    "                topic = area_topic[1]\n",
    "            if (area, topic) in pairs:\n",
    "                continue\n",
    "            if topic==\"지도로 보는 프롤로그\":\n",
    "                continue\n",
    "            content = splited[1]\n",
    "            if type(content) is list:\n",
    "                content = \"\\n\\n\".join(content)\n",
    "            content = re.sub(r\"([^가-힣]) : ([가-힣])\", r\"\\1\\n\\2\", content).strip()\n",
    "            content = re.sub(r\"”([가-힣 ])\", r\"”\\n\\1\", content)\n",
    "            content = re.sub(r\"([가-힣.?! ”])“\", r\"\\1\\n“\", content)\n",
    "            content = re.sub(r\"([^#\\n])## ([가-힣])\", r\"\\1\\n\\n## \\2\", content)\n",
    "            content = re.sub(r\"([가-힣!.?])[\\s]?[·•-] ([가-힣])\", r\"\\1\\n- \\2\", content)\n",
    "            content = re.sub(r\"([가-힣]+: [가-힣\\s?!.]+[?!.]) ([가-힣]+:)\", r\"\\1\\n\\2\", content)\n",
    "            content = re.sub(r\"([가-힣]+: [가-힣\\s?!.]+[?!.]) ([가-힣]+:)\", r\"\\1\\n\\2\", content)\n",
    "            content = re.sub(r\"([가-힣])([.?!])( )?([(])?([\\d])([.)])( )?([가-힣])\", r\"\\1\\2\\n\\4\\5\\6 \\8\", content)\n",
    "            content = content.replace(\"#풀이\\n\", \"\")\n",
    "            content = content.replace(\"\\n \", \"\\n\")\n",
    "            content = content.replace(\" \\n\", \"\\n\")\n",
    "            content = content.replace(\"##\\n\", \"\")\n",
    "             \n",
    "        except Exception as e:\n",
    "            print(e, splited)\n",
    "            continue\n",
    "        if area==\"국어\":\n",
    "            form = format_kor\n",
    "        elif area==\"인물탐구\":\n",
    "            form = format_per\n",
    "        elif area==\"지식e\":\n",
    "            form = format_e\n",
    "        elif area==\"사회\":\n",
    "            form = format_so\n",
    "        else:\n",
    "            form = random.choice(formats)\n",
    "        \n",
    "        instruction = form.format_map({\"area\":area, \"topic\":topic.replace(\"\\n\",\" \").replace(\"  \", \" \").strip()})\n",
    "        instruction = re.sub(r\"[\\?]([^\\s])\", r\"? \\1\", instruction)\n",
    "        additional.append([{\"from\": \"human\", \"value\": instruction}, {\"from\":\"bot\", \"value\": content, \"domain\": \"education\"}])\n",
    "        pairs.append((area, topic))"
   ]
  },
  {
   "cell_type": "code",
   "execution_count": 22,
   "metadata": {},
   "outputs": [
    {
     "data": {
      "text/plain": [
       "10971"
      ]
     },
     "execution_count": 22,
     "metadata": {},
     "output_type": "execute_result"
    }
   ],
   "source": [
    "len(additional)"
   ]
  },
  {
   "cell_type": "code",
   "execution_count": 23,
   "metadata": {},
   "outputs": [],
   "source": [
    "# additional = random.sample(additional, k=8192)\n",
    "unified_data.extend(additional)"
   ]
  },
  {
   "cell_type": "code",
   "execution_count": 9,
   "metadata": {},
   "outputs": [
    {
     "name": "stderr",
     "output_type": "stream",
     "text": [
      "100%|██████████| 14/14 [00:00<00:00, 7378.77it/s]"
     ]
    },
    {
     "name": "stdout",
     "output_type": "stream",
     "text": [
      "Get 14 dialogs\n"
     ]
    },
    {
     "name": "stderr",
     "output_type": "stream",
     "text": [
      "\n"
     ]
    }
   ],
   "source": [
    "# with open(\"../data/extra_edu_data.json\", \"r\", encoding=\"utf-8\") as f:\n",
    "#     extra = json.load(f)\n",
    "# edu_data.extend(to_dialog(extra, \"instruction\", \"output\", \"education\"))\n",
    "\n",
    "# # Dialog\n",
    "# with open(\"../data/web_crawled/naver2dialog.json\", \"r\") as f:\n",
    "#     conv_data = json.load(f)\n",
    "    \n",
    "# edu_data.extend(conv_data)"
   ]
  },
  {
   "cell_type": "code",
   "execution_count": 10,
   "metadata": {},
   "outputs": [],
   "source": [
    "import json\n",
    "\n",
    "with open(\"../data/inst_edu_third.json\", \"w\", encoding=\"utf-8\") as f:\n",
    "    json.dump(unified_data, f, ensure_ascii=False, indent=2) # ensure_ascii로 한글이 깨지지 않게 저장"
   ]
  },
  {
   "cell_type": "code",
   "execution_count": 2,
   "metadata": {},
   "outputs": [],
   "source": [
    "import json, re\n",
    "\n",
    "with open(\"../data/unified_DAPT_data.json\", \"r\", encoding=\"utf-8\") as f:\n",
    "    data = json.load(f)\n",
    "    \n",
    "new_data = []\n",
    "\n",
    "for sample in data:\n",
    "    sample = re.sub(r\"([가-힣.?!]) - ([가-힣0-9])\", r\"\\1\\n- \\2\", sample) \n",
    "    new_data.append(sample)\n",
    "    \n",
    "with open(\"../data/unified_DAPT_data.json\", \"w\", encoding=\"utf-8\") as f:\n",
    "    json.dump(new_data, f, ensure_ascii=False, indent=2) # ensure_ascii로 한글이 깨지지 않게 저장"
   ]
  },
  {
   "cell_type": "code",
   "execution_count": 124,
   "metadata": {},
   "outputs": [
    {
     "data": {
      "text/plain": [
       "'선생님: 세다 토론이라고 들어 본 적 있나요?\\n희문: 세다? 그건 상대보다 무엇을 잘할 때 세다라고 하는 말 아니에요.'"
      ]
     },
     "execution_count": 124,
     "metadata": {},
     "output_type": "execute_result"
    }
   ],
   "source": [
    "a = \"선생님: 세다 토론이라고 들어 본 적 있나요? 희문: 세다? 그건 상대보다 무엇을 잘할 때 세다라고 하는 말 아니에요.\"\n",
    "# re.sub(r\"([^\\s])([①②③④⑤])\", r\"\\1 \\2\", a)\n",
    "re.sub(r\"([가-힣]+: [가-힣\\s?!.]+[?!.]) ([가-힣]+:)\", r\"\\1\\n\\2\", a)"
   ]
  },
  {
   "cell_type": "code",
   "execution_count": 1,
   "metadata": {},
   "outputs": [],
   "source": [
    "import torch\n",
    "\n",
    "data = torch.load(\"../data/inst_edu_v5.pt\")"
   ]
  },
  {
   "cell_type": "code",
   "execution_count": 5,
   "metadata": {},
   "outputs": [
    {
     "name": "stderr",
     "output_type": "stream",
     "text": [
      "/usr/local/lib/python3.8/dist-packages/tqdm/auto.py:21: TqdmWarning: IProgress not found. Please update jupyter and ipywidgets. See https://ipywidgets.readthedocs.io/en/stable/user_install.html\n",
      "  from .autonotebook import tqdm as notebook_tqdm\n"
     ]
    }
   ],
   "source": [
    "import transformers\n",
    "tokenizer = transformers.AutoTokenizer.from_pretrained(\"../experiments/poly12.8b-DAPT\")"
   ]
  },
  {
   "cell_type": "code",
   "execution_count": 7,
   "metadata": {},
   "outputs": [
    {
     "data": {
      "text/plain": [
       "'호기심 많은 유저와 어시스턴트 간의 대화. 어시스턴트는 유저의 질문이나 지시에 도움이 되고 상세하며 정중한 답변을 합니다.\\n\\n### 질문: 스웨터의 유래는 어디에서 시작되었나요?\\n\\n### 답변: 스웨터의 유래는 14세기경 북유럽항구지역에서 어망을 짜던 기술을 의복에 활용하면서 시작되었습니다. 노동자들의 방한복에서 시작된 스웨터는 여가생활과 스포츠의 붐에 힘입어 대중화되었습니다. 이후, 겨울철 이너웨어의 대명사가 되었습니다. 스웨터는 짜서(Knit) 만든 옷을 말하며, 어부들의 방한복으로 짜여졌던 스웨터 중에서도 스코틀랜드 해안지방의 여인들은 바다로 나가는 남편이나 연인, 자식들에게 무사히 돌아올 것을 기원하며 로프나 닻 무늬를 정성껏 짜넣었다고 합니다. 그 실용성과 정성이 오늘에까지 이어지고 있습니다.<|endoftext|>'"
      ]
     },
     "execution_count": 7,
     "metadata": {},
     "output_type": "execute_result"
    }
   ],
   "source": [
    "tokenizer.decode(data[\"input_ids\"][1].tolist())"
   ]
  },
  {
   "cell_type": "code",
   "execution_count": 37,
   "metadata": {},
   "outputs": [
    {
     "name": "stderr",
     "output_type": "stream",
     "text": [
      "loading file tokenizer.json\n",
      "loading file added_tokens.json\n",
      "loading file special_tokens_map.json\n",
      "loading file tokenizer_config.json\n"
     ]
    }
   ],
   "source": [
    "import transformers\n",
    "\n"
   ]
  },
  {
   "cell_type": "code",
   "execution_count": 38,
   "metadata": {},
   "outputs": [
    {
     "data": {
      "text/plain": [
       "'호기심 많은 유저와 인공지능 어시스턴트 간의 대화. 어시스턴트는 유저의 질문이나 지시에 도움이 되고 상세하며 정중한 답변을 합니다. USER: 이재명 성남시장은 (6·4 지방선거의 성남시장 후보 자격으로서) 2014년 5월 15일 자신의 트위터에 “변희재 법적조치 중”이라며 “명예훼손, 모욕, 선거법 위반 혐의로 고발했습니다”라고 밝혔다. 이어, “끝까지 책임을 물어서 ‘행동에는 책임이 따른다’는 평범한 진리를 깨우쳐 주겠습니다”라며 “민사 손해배상소송도 제기합니다”라고 전했다. 이 후보측은 \\'명예훼손 및 모욕, 공직선거법 위반 등의 혐의로 변 대표를 처벌해달라\\'며 서울지방경찰청 영등포경찰서에 제출한 고소장에서 \"피고는 피고소인을 \\'종북\\' 또는 \\'종북세력에 기생하는 종북거머리\\'라고 지칭하고 \\'북한의 지령을 받고 움직이는 자들은 종북이 아니라 간첩\\'이라는 내용의 허위사실을 지난해 1월부터 최근까지 총 13차례에 걸쳐 자신의 SNS에 올려 이재명의 사회적 평가를 심각하게 침해했다.\"고 썼으며, 이 후보는 변 대표를 상대로 1억원 상당의 손해배상청구 소장도 수원지법 성남지원에 제출했다.\\n\\n변희재에 대한 뉴스를 봤는데, 이재명 시장이 변희재 대표를 고발하여 법적 조치를 취하고, 민사 손해배상소송도 제기했더라고요. 이게 무슨 일인가요? ASSISTANT: 이재명 시장이 변희재 대표가 자신의 SNS에서 명예훼손, 모욕, 공직선거법 위반 등의 혐의로 이재명 시장을 고소한 것에 대해 반격을 해서 법적 조치와 손해배상 청구까지 이어졌다는 거죠.\\n\\nUSER: 변희재 대표가 이재명 시장을 명예훼손하거나 모욕한 사실이 있는 건가요? ASSISTANT: 그게 정확히 무슨 내용인지는 모르지만, 변희재 대표가 이재명 시장을 \\'종북세력\\'으로 지칭하고 \\'북한의 지령을 받고 움직이는 자들은 종북이 아니라 간첩\\'이라는 내용을 SNS에 총 13차례에 걸쳐 올려서 이재명 시장이 본인의 명예를 훼손하였다는 것이죠.\\n\\n'"
      ]
     },
     "execution_count": 38,
     "metadata": {},
     "output_type": "execute_result"
    }
   ],
   "source": [
    "tokenizer.decode(data[\"input_ids\"][30000])"
   ]
  },
  {
   "cell_type": "code",
   "execution_count": 35,
   "metadata": {},
   "outputs": [
    {
     "name": "stderr",
     "output_type": "stream",
     "text": [
      "100%|██████████| 4418/4418 [00:00<00:00, 121457.69it/s]"
     ]
    },
    {
     "name": "stdout",
     "output_type": "stream",
     "text": [
      "Get 4375 dialogs\n"
     ]
    },
    {
     "name": "stderr",
     "output_type": "stream",
     "text": [
      "\n"
     ]
    },
    {
     "data": {
      "text/plain": [
       "77880"
      ]
     },
     "execution_count": 35,
     "metadata": {},
     "output_type": "execute_result"
    }
   ],
   "source": [
    "import json\n",
    "\n",
    "with open(\"../data/inst_edu_v4.json\", \"r\") as fin:\n",
    "    data = json.load(fin)\n",
    "\n",
    "with open(\"../data/processed_math_eng_data.json\", \"r\") as fin:\n",
    "    add_data = json.load(fin)\n",
    "\n",
    "data.extend(to_dialog(add_data, \"user\", \"response\", \"education\"))\n",
    "len(data)"
   ]
  },
  {
   "cell_type": "code",
   "execution_count": 1,
   "metadata": {},
   "outputs": [],
   "source": [
    "import json\n",
    "with open(\"../data/inst_edu_v4.json\", \"r\") as fout:\n",
    "    data = json.load(fout)"
   ]
  },
  {
   "cell_type": "code",
   "execution_count": 2,
   "metadata": {},
   "outputs": [
    {
     "data": {
      "text/plain": [
       "['초등학교 교사와 인공지능 어시스턴트 간의 대화. 어시스턴트는 교육에 대한 유저의 질문이나 지시에 도움이 되는 답변을 합니다.\\n\\n### 질문: 1학년 2학기 수학과목 시계 보기에 관한 단답형 문제 네 문제 만들어줘.\\n\\n### 답변: 문제1: 시계의 짧은바늘이 9와 10의 가운데를, 긴바늘이 6을 가리키고 있습니다. 시계가 나타내는 시각을 쓰시오.  \\n정답 및 해설: 시계의 긴바늘이 6 을 가리키면 30 분이고, 짧은바늘이 9 와 10 의 가운데를 가리키므로 9 시 30 분입니다. \\n\\n문제2: 민규는 아래 시각부터 방과 후 수업을 시작합니다. 시계의 긴바늘이 3바퀴 돌았을 때, 짧은바늘이 가리키는 곳은 어디입니까?\\n정답 및 해설: 시계의 긴바늘이 한 바퀴를 돌 때 짧은 바늘은 한 칸씩 움직이므로 긴바늘이 3 바퀴를 돌면 짧은 바늘은 3 칸을 움직여 3 과 4 의 가운데를 가리키게 됩니다.\\n\\n문제3: 시계의 긴바늘과 짧은바늘이 모두 숫자 12를 가리키고 있습니다. 시계가 나타내는 시각을 구하시오. 시\\n정답 및 해설: 시계의 긴바늘이 숫자 12 를 가리키면 ‘몇 시’인데 짧은바늘이 숫자 12 를 가리키므로 12 시입니다. 따라서 시계가 나타내는 시각은 12 시입니다.\\n\\n문제4: 정연이는 3시에 학원에 가서 5시에 집에 돌아온다고 합니다. 정연이가 학원에 가서 집에 돌아오는 시간 동안 시계의 긴바늘은 몇 바퀴 도는지 구하시오. 바퀴\\n정답 및 해설: 따라서 3 시에서 5 시가 되려면 시계의 긴바늘이 2 바퀴 돕니다. 시계의 긴바늘이 가리키는 숫자가 그대로일 때 짧은바늘이 가리키는 숫자가 1 커지면 긴바늘이 1 바퀴 돈 것입니다.<|endoftext|>',\n",
       " '초등학교 교사와 인공지능 어시스턴트 간의 대화. 어시스턴트는 교육에 대한 유저의 질문이나 지시에 도움이 되는 답변을 합니다.\\n\\n### 질문: 1학년 2학기 수학과목 시계 보기에 관한 단답형 문제 3 문항 만들어줘.\\n\\n### 답변: 문제1: 상민이는 5시에 피아노 학원에 가고, 친구와 놀다가 8시에 집에 돌아온다고 합니다. 상민이가 피아노 학원에 가서 친구와 놀다가 집에 돌아오는 시간 동안 시계의 긴바늘은 몇 바퀴 돌게 됩니까?\\n정답 및 해설: 따라서 5 시에서 8 시가 되려면 시계의 긴바늘이 3 바퀴 돌게 됩니다.\\n\\n문제2: 윤지와 세진이가 학교에 도착한 시각을 나타낸 것입니다. 학교에 먼저 도착한 사람은 누구입니까?\\n정답 및 해설: 학교에 도착한 시각은 윤지가 8 시 30 분, 세진이가 9 시입니다. 따라서 8 시 30 분이 9 시보다 이른 시각이므로 학교에 먼저 도착한 사람은 윤지입니다.\\n\\n문제3: 서희와 용석이가 학교에 도착한 시각을 나타낸 것입니다. 학교에 먼저 도착한 사람은 누구입니까?\\n정답 및 해설: 학교에 도착한 시각은 서희가 8 시 30 분, 용석이가 9 시 30 분입니다. 따라서 8 시 30 분이 9 시 30 분보다 이른 시각이므로 학교에 먼저 도착한 사람은 서희입니다.<|endoftext|>']"
      ]
     },
     "execution_count": 2,
     "metadata": {},
     "output_type": "execute_result"
    }
   ],
   "source": [
    "import sys\n",
    "sys.path.append(\"..\")\n",
    "from model_utils.conversation import get_conv_template\n",
    "\n",
    "conv = get_conv_template(\"elementgpt_for_teacher\")\n",
    "roles = {\"human\": conv.roles[0], \"bot\": conv.roles[1]}\n",
    "\n",
    "# Apply prompt templates\n",
    "conversations = []\n",
    "for i, source in enumerate(data[-2000:-1998]):\n",
    "        \n",
    "    if roles[source[0][\"from\"]] != conv.roles[0]:\n",
    "        # Skip the first one if it is not from human\n",
    "        source = source[1:]\n",
    "\n",
    "    conv.messages = []\n",
    "    for j, sentence in enumerate(source):\n",
    "        role = roles[sentence[\"from\"]]\n",
    "        assert role == conv.roles[j % 2], f\"{i}\"\n",
    "        conv.append_message(role, sentence[\"value\"])\n",
    "    \n",
    "    conversations.append(conv.get_prompt())\n",
    "\n",
    "conversations"
   ]
  },
  {
   "cell_type": "code",
   "execution_count": 4,
   "metadata": {},
   "outputs": [
    {
     "data": {
      "text/plain": [
       "tensor([ 7289,   647,   750,   296, 12917,   441,  5626,   501,  6107, 16940,\n",
       "          965,   285,  2531,    17,   501,  6107, 16940,   272, 12917,   285,\n",
       "         2438,  1019,  3634,   274,  1980,   270,   740,   283,  9499,   284,\n",
       "          453, 18014,   288,  4253,   276,  2802,    17,   202,   202,     6,\n",
       "            6,     6,  2438,    29, 11535,   272,  1382,  6587,  6548, 11260,\n",
       "           34,  1273,   543,   425,  9751,  4408, 11260,    34,   202,   202,\n",
       "            6,     6,     6,  4253,    29, 11535,   272,  9964,   270,  1577,\n",
       "         6587,   285,  8260,  1649,  1441,    17,   543,   425,  9751,  6587,\n",
       "          285,  4408,  1649,  1441,    17,   224,   202,   202,  9600,   285,\n",
       "         6548,   285,  4878,   274,   879,  3716, 20739,   272,   669,   270,\n",
       "         2016,  2670,   307,  2438,   274,   741,  1865,   276,  1044,   283,\n",
       "          327,   276,   388,  1441,    17, 11535,   272,  9964,   270,  1577,\n",
       "         8260,  1649,  1441,    17,   543,   425,  9751,  1108,  2438,   359,\n",
       "         4253,   363,  2958,   551,   388,   359,  2192,  4408,  1649,  1441,\n",
       "           17,  3322,    15, 11535,   272,  6587,   285,  8260,  1649,   270,\n",
       "          740,   283,    15,   543,   425,  9751,  6587,   285,  4408,  1649,\n",
       "         1441,    17,   202,   202, 26205,   272,  4253,    29, 15583,  8260,\n",
       "          309, 11228, 19320,   276,   365,   327,  4389,    34,   224,   202,\n",
       "          202,   283, 11946,  8260,   309, 19126,   339, 11228, 19320,   276,\n",
       "          365,   327,   827,    17,  1146,  8260,  1708,   380,   769,   346,\n",
       "           15,  9964,    15,  1235,    15,  4408,   617,  1392,  6548,   293,\n",
       "        19126,   339,  1495,   605, 15596,  2802,    17,  2466,    15,   803,\n",
       "          363,   272,  1754, 10562,  4408,  1649,   333, 15583,   301,  3331,\n",
       "         1330,   827,    17,     2])"
      ]
     },
     "execution_count": 4,
     "metadata": {},
     "output_type": "execute_result"
    }
   ],
   "source": [
    "import torch\n",
    "data_dict = torch.load(\"../data/inst_edu_v4.pt\")            \n",
    "input_ids = data_dict[\"input_ids\"]\n",
    "labels = data_dict[\"labels\"]\n",
    "input_ids[0]"
   ]
  },
  {
   "cell_type": "code",
   "execution_count": null,
   "metadata": {},
   "outputs": [],
   "source": []
  }
 ],
 "metadata": {
  "kernelspec": {
   "display_name": "base",
   "language": "python",
   "name": "python3"
  },
  "language_info": {
   "codemirror_mode": {
    "name": "ipython",
    "version": 3
   },
   "file_extension": ".py",
   "mimetype": "text/x-python",
   "name": "python",
   "nbconvert_exporter": "python",
   "pygments_lexer": "ipython3",
   "version": "3.8.10"
  },
  "orig_nbformat": 4
 },
 "nbformat": 4,
 "nbformat_minor": 2
}
