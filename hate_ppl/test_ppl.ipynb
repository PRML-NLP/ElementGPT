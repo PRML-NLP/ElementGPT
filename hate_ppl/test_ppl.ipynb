{
 "cells": [
  {
   "cell_type": "code",
   "execution_count": 9,
   "metadata": {},
   "outputs": [],
   "source": [
    "import torch\n",
    "from transformers import AutoTokenizer, AutoModelForCausalLM\n",
    "\n",
    "device = torch.device('cuda' if torch.cuda.is_available() else 'cpu')\n",
    "\n",
    "#model_base_1_3 = AutoModelForCausalLM.from_pretrained(\"EleutherAI/polyglot-ko-1.3b\")\n",
    "#odel_base_1_3.to(device)\n",
    "\n",
    "#model_base = AutoModelForCausalLM.from_pretrained(\"EleutherAI/polyglot-ko-5.8b\")\n",
    "#model_base.to(device)\n",
    "\n",
    "model_dapt = AutoModelForCausalLM.from_pretrained('/workspace/ElementGPT/experiments/poly5.8b-DAPT')\n",
    "model_dapt.to(device)\n",
    "\n",
    "tokenizer = AutoTokenizer.from_pretrained(\"EleutherAI/polyglot-ko-5.8b\")\n",
    "\n"
   ]
  },
  {
   "cell_type": "code",
   "execution_count": 6,
   "metadata": {},
   "outputs": [
    {
     "name": "stdout",
     "output_type": "stream",
     "text": [
      "{'comments': 'ㅋㅋㅋㅋ 그래도 조아해주는 팬들 많아서 좋겠다 ㅠㅠ 니들은 온유가 안만져줌 ㅠㅠ', 'news_title': '\"샤이니 온유, 클럽 강제추행 \\'무혐의\\' 처분 받았다\"'}\n"
     ]
    }
   ],
   "source": [
    "import koco\n",
    "test = koco.load_dataset('korean-hate-speech', mode='test')\n",
    "type(test)\n",
    "print(test[0])"
   ]
  },
  {
   "cell_type": "code",
   "execution_count": 11,
   "metadata": {},
   "outputs": [
    {
     "name": "stdout",
     "output_type": "stream",
     "text": [
      "Average perplexity score for polyglot-ko-5.8b-w_DAPT model: 1304.034141183634\n"
     ]
    }
   ],
   "source": [
    "def calculate_perplexity(model, context, target):\n",
    "    # Create the input with both context and target\n",
    "    input_text = context + \" \" + target\n",
    "    input_ids = tokenizer.encode(input_text, return_tensors='pt').to(device)\n",
    "\n",
    "    # Create the labels by only encoding the target and filling rest with -100\n",
    "    labels = tokenizer.encode(target, return_tensors='pt').to(device)\n",
    "    labels = labels.to(device)\n",
    "    padded_labels = -100 * torch.ones_like(input_ids)\n",
    "    padded_labels[:, -labels.size(1):] = labels\n",
    "\n",
    "    with torch.no_grad():\n",
    "        outputs = model(input_ids, labels=padded_labels)\n",
    "        loss = outputs.loss\n",
    "    return torch.exp(loss)\n",
    "\n",
    "perplexity_list = []\n",
    "for data in test:\n",
    "    news_title = data['news_title']\n",
    "    context = f\"뉴스 제목: {news_title}\" + f\"댓글: \"\n",
    "    target = data['comments']\n",
    "    #perplexity = calculate_perplexity(model= model_base, context=context, target= target)\n",
    "    perplexity = calculate_perplexity(model= model_dapt, context=context, target=target)\n",
    "    perplexity_list.append(perplexity.item())\n",
    "\n",
    "#print(f\"Average perplexity score for original polyglot-ko-5.8b model: {sum(perplexity_list) / len(perplexity_list)}\")\n",
    "print(f\"Average perplexity score for polyglot-ko-5.8b-w_DAPT model: {sum(perplexity_list) / len(perplexity_list)}\")\n"
   ]
  },
  {
   "cell_type": "code",
   "execution_count": 8,
   "metadata": {},
   "outputs": [
    {
     "name": "stdout",
     "output_type": "stream",
     "text": [
      "Average perplexity score for original polyglot-ko-5.8b model: 303.0976689180065\n"
     ]
    }
   ],
   "source": [
    "perplexity_list = []\n",
    "for data in test:\n",
    "    news_title = data['news_title']\n",
    "    context = f\"뉴스제목: {news_title}\" + f\"댓글: \"\n",
    "    target = data['comments']\n",
    "    perplexity = calculate_perplexity(model= model_base, context=context, target= target)\n",
    "    #perplexity = calculate_perplexity(model= model_dapt, context=context, target=target)\n",
    "    perplexity_list.append(perplexity.item())\n",
    "\n",
    "print(f\"Average perplexity score for original polyglot-ko-5.8b model: {sum(perplexity_list) / len(perplexity_list)}\")\n",
    "#print(f\"Average perplexity score for polyglot-ko-5.8b-w_DAPT model: {sum(perplexity_list) / len(perplexity_list)}\")"
   ]
  },
  {
   "cell_type": "code",
   "execution_count": 8,
   "metadata": {},
   "outputs": [
    {
     "name": "stdout",
     "output_type": "stream",
     "text": [
      "Average perplexity score for original polyglot-ko-1.3b model: 635.0089889598333\n"
     ]
    }
   ],
   "source": [
    "perplexity_list = []\n",
    "for data in test:\n",
    "    news_title = data['news_title']\n",
    "    context = f\"뉴스제목: {news_title}\" + f\"댓글: \"\n",
    "    target = data['comments']\n",
    "    perplexity = calculate_perplexity(model= model_base_1_3, context=context, target= target)\n",
    "    #perplexity = calculate_perplexity(model= model_dapt, context=context, target=target)\n",
    "    perplexity_list.append(perplexity.item())\n",
    "\n",
    "print(f\"Average perplexity score for original polyglot-ko-1.3b model: {sum(perplexity_list) / len(perplexity_list)}\")\n",
    "#print(f\"Average perplexity score for polyglot-ko-5.8b-w_DAPT model: {sum(perplexity_list) / len(perplexity_list)}\")"
   ]
  },
  {
   "cell_type": "code",
   "execution_count": 4,
   "metadata": {},
   "outputs": [
    {
     "name": "stdout",
     "output_type": "stream",
     "text": [
      "tensor([[ 4883,  4526,    29,   490,  5213, 22532,  1148,   608,    15,  5240,\n",
      "          4002,  7554,   514,   529, 13713,    10,  4861,   719,   622,   267,\n",
      "             5,  5952,    29, 10609,   237,  9664,   237,  9664,   237,  9664,\n",
      "           237,  3791,   534,   399, 29143,   272,  2335,   355,   750,  2341,\n",
      "           909, 16471, 10609,   258,  9664,   258,  3211,   355,   296,  1148,\n",
      "          8949,   596,   380,   970,  6973, 10609,   258,  9664,   258]])\n"
     ]
    }
   ],
   "source": [
    "def data_tokenize(data_list, tokenizer):\n",
    "    tokenized_inputs = []\n",
    "    for data in data_list:\n",
    "        comments = data.get('comments', '')\n",
    "        title = data.get('news_title', '')\n",
    "        prompt1 = f'뉴스 제목: {title} '\n",
    "        prompt2 = f'댓글: {comments}'\n",
    "        input_sequence = prompt1 + prompt2\n",
    "        inputs = tokenizer.encode(input_sequence, return_tensors = 'pt')\n",
    "        tokenized_inputs.append(inputs)\n",
    "    return tokenized_inputs\n",
    "\n",
    "tokenized_input = data_tokenize(test, tokenizer=tokenizer)\n",
    "print((tokenized_input)[0])\n",
    "\n",
    "def calculate_log_likelihood(model, input, device):\n",
    "    input = input.to(device)\n",
    "    model.eval()\n",
    "    with torch.no_grad():\n",
    "        outputs = model(input, labels=input)\n",
    "        return outputs.loss.item()\n",
    "\n",
    "\n",
    "\n",
    "def calculate_perplexity(model, input):\n",
    "    model.eval()\n",
    "    with torch.no_grad():\n",
    "        output = model(input)\n",
    "        logits = output.logits\n",
    "        print(logits)\n",
    "        \n",
    "        prompt2_start = input[0].tolist().index(tokenizer.encode(tokenizer.eos_token)[0]) +3\n",
    "\n",
    "        logits_prompt2 = logits[..., prompt2_start:,:]\n",
    "        print(logits_prompt2)\n",
    "        p = torch.nn.functional.softmax(logits_prompt2, dim=-1)\n",
    "\n",
    "        log_p = torch.log(p)\n",
    "        print(log_p)\n",
    "        nll_loss = torch.nn.functional.nll_loss(torch.log(p), logits_prompt2[:, 0, :].long())\n",
    "        # nll_loss = -torch.gather(log_p,2,input[..., prompt2_start:,:]).mean()\n",
    "        perplexity_prompt2 = torch.exp(nll_loss)\n",
    "\n",
    "    return perplexity_prompt2.item()\n",
    "\n",
    "\n",
    "        "
   ]
  },
  {
   "cell_type": "code",
   "execution_count": 15,
   "metadata": {},
   "outputs": [
    {
     "ename": "RuntimeError",
     "evalue": "CUDA error: device-side assert triggered\nCUDA kernel errors might be asynchronously reported at some other API call,so the stacktrace below might be incorrect.\nFor debugging consider passing CUDA_LAUNCH_BLOCKING=1.",
     "output_type": "error",
     "traceback": [
      "\u001b[0;31m---------------------------------------------------------------------------\u001b[0m",
      "\u001b[0;31mRuntimeError\u001b[0m                              Traceback (most recent call last)",
      "Cell \u001b[0;32mIn[15], line 2\u001b[0m\n\u001b[1;32m      1\u001b[0m sample \u001b[39m=\u001b[39m data_tokenize(test, tokenizer\u001b[39m=\u001b[39m tokenizer)[\u001b[39m3\u001b[39m]\n\u001b[0;32m----> 2\u001b[0m calculate_log_likelihood(model\u001b[39m=\u001b[39;49m model_base, \u001b[39minput\u001b[39;49m \u001b[39m=\u001b[39;49m sample, device\u001b[39m=\u001b[39;49mdevice)\n\u001b[1;32m      4\u001b[0m calculate_perplexity(model\u001b[39m=\u001b[39mmodel_base, \u001b[39minput\u001b[39m\u001b[39m=\u001b[39msample\u001b[39m.\u001b[39mto(device))\n",
      "Cell \u001b[0;32mIn[13], line 17\u001b[0m, in \u001b[0;36mcalculate_log_likelihood\u001b[0;34m(model, input, device)\u001b[0m\n\u001b[1;32m     16\u001b[0m \u001b[39mdef\u001b[39;00m \u001b[39mcalculate_log_likelihood\u001b[39m(model, \u001b[39minput\u001b[39m, device):\n\u001b[0;32m---> 17\u001b[0m     \u001b[39minput\u001b[39m \u001b[39m=\u001b[39m \u001b[39minput\u001b[39;49m\u001b[39m.\u001b[39;49mto(device)\n\u001b[1;32m     18\u001b[0m     model\u001b[39m.\u001b[39meval()\n\u001b[1;32m     19\u001b[0m     \u001b[39mwith\u001b[39;00m torch\u001b[39m.\u001b[39mno_grad():\n",
      "\u001b[0;31mRuntimeError\u001b[0m: CUDA error: device-side assert triggered\nCUDA kernel errors might be asynchronously reported at some other API call,so the stacktrace below might be incorrect.\nFor debugging consider passing CUDA_LAUNCH_BLOCKING=1."
     ]
    }
   ],
   "source": [
    "sample = data_tokenize(test, tokenizer= tokenizer)[3]\n",
    "calculate_log_likelihood(model= model_base, input = sample, device=device)\n",
    "\n",
    "calculate_perplexity(model=model_base, input=sample.to(device))"
   ]
  },
  {
   "cell_type": "code",
   "execution_count": null,
   "metadata": {},
   "outputs": [],
   "source": []
  }
 ],
 "metadata": {
  "kernelspec": {
   "display_name": "Python 3",
   "language": "python",
   "name": "python3"
  },
  "language_info": {
   "codemirror_mode": {
    "name": "ipython",
    "version": 3
   },
   "file_extension": ".py",
   "mimetype": "text/x-python",
   "name": "python",
   "nbconvert_exporter": "python",
   "pygments_lexer": "ipython3",
   "version": "3.8.10"
  },
  "orig_nbformat": 4
 },
 "nbformat": 4,
 "nbformat_minor": 2
}
